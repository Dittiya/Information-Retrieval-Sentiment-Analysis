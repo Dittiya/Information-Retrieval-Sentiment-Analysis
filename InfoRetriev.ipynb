{
 "cells": [
  {
   "cell_type": "markdown",
   "metadata": {},
   "source": [
    "Aditiya Artadinata / 2201735640"
   ]
  },
  {
   "cell_type": "markdown",
   "metadata": {
    "id": "iJvb6JbXJvlQ"
   },
   "source": [
    "# Library"
   ]
  },
  {
   "cell_type": "code",
   "execution_count": 1,
   "metadata": {
    "colab": {
     "base_uri": "https://localhost:8080/"
    },
    "id": "j6J-PXqrYFaE",
    "outputId": "5f028ea1-27a6-417a-e60b-42504550dda3"
   },
   "outputs": [
    {
     "name": "stdout",
     "output_type": "stream",
     "text": [
      "Collecting Sastrawi\n",
      "\u001b[?25l  Downloading https://files.pythonhosted.org/packages/6f/4b/bab676953da3103003730b8fcdfadbdd20f333d4add10af949dd5c51e6ed/Sastrawi-1.0.1-py2.py3-none-any.whl (209kB)\n",
      "\r",
      "\u001b[K     |█▋                              | 10kB 20.1MB/s eta 0:00:01\r",
      "\u001b[K     |███▏                            | 20kB 26.5MB/s eta 0:00:01\r",
      "\u001b[K     |████▊                           | 30kB 21.3MB/s eta 0:00:01\r",
      "\u001b[K     |██████▎                         | 40kB 18.9MB/s eta 0:00:01\r",
      "\u001b[K     |███████▉                        | 51kB 20.6MB/s eta 0:00:01\r",
      "\u001b[K     |█████████▍                      | 61kB 23.0MB/s eta 0:00:01\r",
      "\u001b[K     |███████████                     | 71kB 24.7MB/s eta 0:00:01\r",
      "\u001b[K     |████████████▌                   | 81kB 22.9MB/s eta 0:00:01\r",
      "\u001b[K     |██████████████                  | 92kB 21.4MB/s eta 0:00:01\r",
      "\u001b[K     |███████████████▋                | 102kB 21.7MB/s eta 0:00:01\r",
      "\u001b[K     |█████████████████▏              | 112kB 21.7MB/s eta 0:00:01\r",
      "\u001b[K     |██████████████████▊             | 122kB 21.7MB/s eta 0:00:01\r",
      "\u001b[K     |████████████████████▎           | 133kB 21.7MB/s eta 0:00:01\r",
      "\u001b[K     |█████████████████████▉          | 143kB 21.7MB/s eta 0:00:01\r",
      "\u001b[K     |███████████████████████▍        | 153kB 21.7MB/s eta 0:00:01\r",
      "\u001b[K     |█████████████████████████       | 163kB 21.7MB/s eta 0:00:01\r",
      "\u001b[K     |██████████████████████████▋     | 174kB 21.7MB/s eta 0:00:01\r",
      "\u001b[K     |████████████████████████████▏   | 184kB 21.7MB/s eta 0:00:01\r",
      "\u001b[K     |█████████████████████████████▊  | 194kB 21.7MB/s eta 0:00:01\r",
      "\u001b[K     |███████████████████████████████▎| 204kB 21.7MB/s eta 0:00:01\r",
      "\u001b[K     |████████████████████████████████| 215kB 21.7MB/s \n",
      "\u001b[?25hInstalling collected packages: Sastrawi\n",
      "Successfully installed Sastrawi-1.0.1\n",
      "Collecting transformers\n",
      "\u001b[?25l  Downloading https://files.pythonhosted.org/packages/98/87/ef312eef26f5cecd8b17ae9654cdd8d1fae1eb6dbd87257d6d73c128a4d0/transformers-4.3.2-py3-none-any.whl (1.8MB)\n",
      "\u001b[K     |████████████████████████████████| 1.8MB 16.7MB/s \n",
      "\u001b[?25hRequirement already satisfied: regex!=2019.12.17 in /usr/local/lib/python3.6/dist-packages (from transformers) (2019.12.20)\n",
      "Requirement already satisfied: requests in /usr/local/lib/python3.6/dist-packages (from transformers) (2.23.0)\n",
      "Requirement already satisfied: tqdm>=4.27 in /usr/local/lib/python3.6/dist-packages (from transformers) (4.41.1)\n",
      "Requirement already satisfied: packaging in /usr/local/lib/python3.6/dist-packages (from transformers) (20.9)\n",
      "Requirement already satisfied: filelock in /usr/local/lib/python3.6/dist-packages (from transformers) (3.0.12)\n",
      "Collecting tokenizers<0.11,>=0.10.1\n",
      "\u001b[?25l  Downloading https://files.pythonhosted.org/packages/fd/5b/44baae602e0a30bcc53fbdbc60bd940c15e143d252d658dfdefce736ece5/tokenizers-0.10.1-cp36-cp36m-manylinux2010_x86_64.whl (3.2MB)\n",
      "\u001b[K     |████████████████████████████████| 3.2MB 48.2MB/s \n",
      "\u001b[?25hRequirement already satisfied: dataclasses; python_version < \"3.7\" in /usr/local/lib/python3.6/dist-packages (from transformers) (0.8)\n",
      "Requirement already satisfied: importlib-metadata; python_version < \"3.8\" in /usr/local/lib/python3.6/dist-packages (from transformers) (3.4.0)\n",
      "Collecting sacremoses\n",
      "\u001b[?25l  Downloading https://files.pythonhosted.org/packages/7d/34/09d19aff26edcc8eb2a01bed8e98f13a1537005d31e95233fd48216eed10/sacremoses-0.0.43.tar.gz (883kB)\n",
      "\u001b[K     |████████████████████████████████| 890kB 45.1MB/s \n",
      "\u001b[?25hRequirement already satisfied: numpy>=1.17 in /usr/local/lib/python3.6/dist-packages (from transformers) (1.19.5)\n",
      "Requirement already satisfied: certifi>=2017.4.17 in /usr/local/lib/python3.6/dist-packages (from requests->transformers) (2020.12.5)\n",
      "Requirement already satisfied: urllib3!=1.25.0,!=1.25.1,<1.26,>=1.21.1 in /usr/local/lib/python3.6/dist-packages (from requests->transformers) (1.24.3)\n",
      "Requirement already satisfied: idna<3,>=2.5 in /usr/local/lib/python3.6/dist-packages (from requests->transformers) (2.10)\n",
      "Requirement already satisfied: chardet<4,>=3.0.2 in /usr/local/lib/python3.6/dist-packages (from requests->transformers) (3.0.4)\n",
      "Requirement already satisfied: pyparsing>=2.0.2 in /usr/local/lib/python3.6/dist-packages (from packaging->transformers) (2.4.7)\n",
      "Requirement already satisfied: zipp>=0.5 in /usr/local/lib/python3.6/dist-packages (from importlib-metadata; python_version < \"3.8\"->transformers) (3.4.0)\n",
      "Requirement already satisfied: typing-extensions>=3.6.4; python_version < \"3.8\" in /usr/local/lib/python3.6/dist-packages (from importlib-metadata; python_version < \"3.8\"->transformers) (3.7.4.3)\n",
      "Requirement already satisfied: six in /usr/local/lib/python3.6/dist-packages (from sacremoses->transformers) (1.15.0)\n",
      "Requirement already satisfied: click in /usr/local/lib/python3.6/dist-packages (from sacremoses->transformers) (7.1.2)\n",
      "Requirement already satisfied: joblib in /usr/local/lib/python3.6/dist-packages (from sacremoses->transformers) (1.0.0)\n",
      "Building wheels for collected packages: sacremoses\n",
      "  Building wheel for sacremoses (setup.py) ... \u001b[?25l\u001b[?25hdone\n",
      "  Created wheel for sacremoses: filename=sacremoses-0.0.43-cp36-none-any.whl size=893261 sha256=aa88f52170b07f4534013379b67950e9d8370947ccaf66f870e1530af3ed2f0b\n",
      "  Stored in directory: /root/.cache/pip/wheels/29/3c/fd/7ce5c3f0666dab31a50123635e6fb5e19ceb42ce38d4e58f45\n",
      "Successfully built sacremoses\n",
      "Installing collected packages: tokenizers, sacremoses, transformers\n",
      "Successfully installed sacremoses-0.0.43 tokenizers-0.10.1 transformers-4.3.2\n"
     ]
    }
   ],
   "source": [
    "!pip install Sastrawi\n",
    "!pip install transformers\n",
    "\n",
    "from transformers import BertTokenizer, TFBertForSequenceClassification\n",
    "from transformers import InputExample, InputFeatures\n",
    "\n",
    "model_name = 'bert-base-uncased'\n",
    "model_name = 'cahya/bert-base-indonesian-522M'"
   ]
  },
  {
   "cell_type": "code",
   "execution_count": 2,
   "metadata": {
    "id": "L-l-iU-Zptj8"
   },
   "outputs": [],
   "source": [
    "!wget 'https://drive.google.com/uc?export=download&id=1GALJaSIBZQk6DHjwcXPzyfBgvXBTEmWf' -q -O hatespeech.txt\n",
    "!wget 'https://drive.google.com/uc?export=download&id=1uK_1xuk4E_nJWPSa-H58GnaR-8n43G9e' -q -O sentiment.csv"
   ]
  },
  {
   "cell_type": "code",
   "execution_count": 3,
   "metadata": {
    "colab": {
     "base_uri": "https://localhost:8080/"
    },
    "id": "Cq0-RurThtyA",
    "outputId": "4fae8bb4-7379-4f37-e6c2-06903d684b54"
   },
   "outputs": [
    {
     "name": "stdout",
     "output_type": "stream",
     "text": [
      "[nltk_data] Downloading package stopwords to /root/nltk_data...\n",
      "[nltk_data]   Unzipping corpora/stopwords.zip.\n",
      "[nltk_data] Downloading package punkt to /root/nltk_data...\n",
      "[nltk_data]   Unzipping tokenizers/punkt.zip.\n"
     ]
    },
    {
     "data": {
      "text/plain": [
       "True"
      ]
     },
     "execution_count": 3,
     "metadata": {
      "tags": []
     },
     "output_type": "execute_result"
    }
   ],
   "source": [
    "import pandas as pd\n",
    "import seaborn as sns\n",
    "import matplotlib.pyplot as plt\n",
    "import numpy as np\n",
    "import tensorflow as tf\n",
    "\n",
    "import nltk\n",
    "from Sastrawi.StopWordRemover.StopWordRemoverFactory import StopWordRemoverFactory\n",
    "import string\n",
    "import re\n",
    "\n",
    "%matplotlib inline\n",
    "nltk.download('stopwords')\n",
    "nltk.download('punkt')"
   ]
  },
  {
   "cell_type": "code",
   "execution_count": 4,
   "metadata": {
    "colab": {
     "base_uri": "https://localhost:8080/"
    },
    "id": "EhlXLGmwFzJx",
    "outputId": "7ab4ed50-c1ea-41c5-f9b5-765b613646d9"
   },
   "outputs": [
    {
     "name": "stdout",
     "output_type": "stream",
     "text": [
      "Found GPU at: /device:GPU:0\n"
     ]
    }
   ],
   "source": [
    "device_name = tf.test.gpu_device_name()\n",
    "if device_name != '/device:GPU:0':\n",
    "  print('GPU device not found')\n",
    "else:\n",
    "  print('Found GPU at: {}'.format(device_name))"
   ]
  },
  {
   "cell_type": "code",
   "execution_count": 5,
   "metadata": {
    "id": "6DZjxC7kC9Gn"
   },
   "outputs": [],
   "source": [
    "def convert_data_to_examples(train, valid, test, DATA_COLUMN, LABEL_COLUMN): \n",
    "  train_InputExamples = train.apply(lambda x: InputExample(guid=None, \n",
    "                                                          text_a = x[DATA_COLUMN], \n",
    "                                                          text_b = None,\n",
    "                                                          label = x[LABEL_COLUMN]), axis = 1)\n",
    "\n",
    "  validation_InputExamples = valid.apply(lambda x: InputExample(guid=None, \n",
    "                                                          text_a = x[DATA_COLUMN], \n",
    "                                                          text_b = None,\n",
    "                                                          label = x[LABEL_COLUMN]), axis = 1)\n",
    "  \n",
    "  test_InputExamples = test.apply(lambda x: InputExample(guid=None, \n",
    "                                                          text_a = x[DATA_COLUMN], \n",
    "                                                          text_b = None,\n",
    "                                                          label = x[LABEL_COLUMN]), axis = 1)\n",
    "  \n",
    "  return train_InputExamples, validation_InputExamples, test_InputExamples\n",
    "\n",
    "def convert_examples_to_tf_dataset(examples, tokenizer, max_length=128):\n",
    "    features = []\n",
    "\n",
    "    for e in examples:\n",
    "        input_dict = tokenizer.encode_plus(\n",
    "            e.text_a,\n",
    "            add_special_tokens=True,\n",
    "            max_length=max_length, \n",
    "            return_token_type_ids=True,\n",
    "            return_attention_mask=True,\n",
    "            pad_to_max_length=True, \n",
    "            truncation=True\n",
    "        )\n",
    "\n",
    "        input_ids, token_type_ids, attention_mask = (input_dict[\"input_ids\"],\n",
    "            input_dict[\"token_type_ids\"], input_dict['attention_mask'])\n",
    "\n",
    "        features.append(\n",
    "            InputFeatures(\n",
    "                input_ids=input_ids, attention_mask=attention_mask, token_type_ids=token_type_ids, label=e.label\n",
    "            )\n",
    "        )\n",
    "\n",
    "    def gen():\n",
    "        for f in features:\n",
    "            yield (\n",
    "                {\n",
    "                    \"input_ids\": f.input_ids,\n",
    "                    \"attention_mask\": f.attention_mask,\n",
    "                    \"token_type_ids\": f.token_type_ids,\n",
    "                },\n",
    "                f.label,\n",
    "            )\n",
    "\n",
    "    return tf.data.Dataset.from_generator(\n",
    "        gen,\n",
    "        ({\"input_ids\": tf.int32, \"attention_mask\": tf.int32, \"token_type_ids\": tf.int32}, tf.int64),\n",
    "        (\n",
    "            {\n",
    "                \"input_ids\": tf.TensorShape([None]),\n",
    "                \"attention_mask\": tf.TensorShape([None]),\n",
    "                \"token_type_ids\": tf.TensorShape([None]),\n",
    "            },\n",
    "            tf.TensorShape([]),\n",
    "        ),\n",
    "    )"
   ]
  },
  {
   "cell_type": "markdown",
   "metadata": {
    "id": "PcV4y3RGMM1s"
   },
   "source": [
    "# Sentiment.csv"
   ]
  },
  {
   "cell_type": "code",
   "execution_count": 6,
   "metadata": {
    "colab": {
     "base_uri": "https://localhost:8080/",
     "height": 424
    },
    "id": "OAOKdw_mh8eq",
    "outputId": "0f2f50f6-aabd-4f19-bf3e-91e8fe9daf34"
   },
   "outputs": [
    {
     "data": {
      "text/html": [
       "<div>\n",
       "<style scoped>\n",
       "    .dataframe tbody tr th:only-of-type {\n",
       "        vertical-align: middle;\n",
       "    }\n",
       "\n",
       "    .dataframe tbody tr th {\n",
       "        vertical-align: top;\n",
       "    }\n",
       "\n",
       "    .dataframe thead th {\n",
       "        text-align: right;\n",
       "    }\n",
       "</style>\n",
       "<table border=\"1\" class=\"dataframe\">\n",
       "  <thead>\n",
       "    <tr style=\"text-align: right;\">\n",
       "      <th></th>\n",
       "      <th>Tweets</th>\n",
       "      <th>Label</th>\n",
       "    </tr>\n",
       "  </thead>\n",
       "  <tbody>\n",
       "    <tr>\n",
       "      <th>0</th>\n",
       "      <td>rt @mrtampi: agus makin santai.\\nahok makin sa...</td>\n",
       "      <td>negatif</td>\n",
       "    </tr>\n",
       "    <tr>\n",
       "      <th>1</th>\n",
       "      <td>pilkada dki jangan pilih pki!! berbahaya!! pil...</td>\n",
       "      <td>negatif</td>\n",
       "    </tr>\n",
       "    <tr>\n",
       "      <th>2</th>\n",
       "      <td>pdip sengaja becah belah rakyat warga dki tida...</td>\n",
       "      <td>negatif</td>\n",
       "    </tr>\n",
       "    <tr>\n",
       "      <th>3</th>\n",
       "      <td>rt @gunromli: sylviana kesyikan ngomong sendir...</td>\n",
       "      <td>negatif</td>\n",
       "    </tr>\n",
       "    <tr>\n",
       "      <th>4</th>\n",
       "      <td>rt @gunromli: sylviana kesyikan ngomong sendir...</td>\n",
       "      <td>negatif</td>\n",
       "    </tr>\n",
       "    <tr>\n",
       "      <th>...</th>\n",
       "      <td>...</td>\n",
       "      <td>...</td>\n",
       "    </tr>\n",
       "    <tr>\n",
       "      <th>1501</th>\n",
       "      <td>rt @zul_hasan: sebelum debat kompak dukung agu...</td>\n",
       "      <td>positif</td>\n",
       "    </tr>\n",
       "    <tr>\n",
       "      <th>1502</th>\n",
       "      <td>#debat2pilkadadki apik kabeh, yo seng adil men...</td>\n",
       "      <td>positif</td>\n",
       "    </tr>\n",
       "    <tr>\n",
       "      <th>1503</th>\n",
       "      <td>rt @erixputra: rakyat adalah bos kami. kami ad...</td>\n",
       "      <td>positif</td>\n",
       "    </tr>\n",
       "    <tr>\n",
       "      <th>1504</th>\n",
       "      <td>ahok \\u2013 djarot waspadai politik uang dalam...</td>\n",
       "      <td>positif</td>\n",
       "    </tr>\n",
       "    <tr>\n",
       "      <th>1505</th>\n",
       "      <td>@jokowi harusnya sdh tahu dari awal ini semaki...</td>\n",
       "      <td>positif</td>\n",
       "    </tr>\n",
       "  </tbody>\n",
       "</table>\n",
       "<p>1506 rows × 2 columns</p>\n",
       "</div>"
      ],
      "text/plain": [
       "                                                 Tweets    Label\n",
       "0     rt @mrtampi: agus makin santai.\\nahok makin sa...  negatif\n",
       "1     pilkada dki jangan pilih pki!! berbahaya!! pil...  negatif\n",
       "2     pdip sengaja becah belah rakyat warga dki tida...  negatif\n",
       "3     rt @gunromli: sylviana kesyikan ngomong sendir...  negatif\n",
       "4     rt @gunromli: sylviana kesyikan ngomong sendir...  negatif\n",
       "...                                                 ...      ...\n",
       "1501  rt @zul_hasan: sebelum debat kompak dukung agu...  positif\n",
       "1502  #debat2pilkadadki apik kabeh, yo seng adil men...  positif\n",
       "1503  rt @erixputra: rakyat adalah bos kami. kami ad...  positif\n",
       "1504  ahok \\u2013 djarot waspadai politik uang dalam...  positif\n",
       "1505  @jokowi harusnya sdh tahu dari awal ini semaki...  positif\n",
       "\n",
       "[1506 rows x 2 columns]"
      ]
     },
     "execution_count": 6,
     "metadata": {
      "tags": []
     },
     "output_type": "execute_result"
    }
   ],
   "source": [
    "df_sentiment = pd.read_csv('sentiment.csv', sep=';')\n",
    "\n",
    "df_sentiment"
   ]
  },
  {
   "cell_type": "code",
   "execution_count": 7,
   "metadata": {
    "colab": {
     "base_uri": "https://localhost:8080/"
    },
    "id": "p_Il6TRv732_",
    "outputId": "7df0ecd9-7982-42fc-8577-f4bb9c22e681",
    "scrolled": true
   },
   "outputs": [
    {
     "name": "stdout",
     "output_type": "stream",
     "text": [
      "debat kok saling menjatuhkan ki pie dua dua nya nyerang eh malah bertengkar sendiri yg di serang melerai ngakak  d\n",
      "debat kok saling menjatuhkan ki pie dua nya nyerang eh malah bertengkar sendiri yg serang melerai ngakak  d\n"
     ]
    }
   ],
   "source": [
    "from Sastrawi.StopWordRemover.StopWordRemoverFactory import StopWordRemoverFactory\n",
    "from Sastrawi.Stemmer.StemmerFactory import StemmerFactory\n",
    "from nltk.tokenize import word_tokenize\n",
    "\n",
    "sw_factory = StopWordRemoverFactory()\n",
    "stopword = sw_factory.create_stop_word_remover()\n",
    "\n",
    "stem_factory = StemmerFactory()\n",
    "stemmer = stem_factory.create_stemmer()\n",
    "\n",
    "kalimat = \"debat kok saling menjatuhkan ki pie dua dua nya nyerang eh malah bertengkar sendiri yg di serang melerai ngakak  d\"\n",
    "kalimat = kalimat.translate(str.maketrans('','',string.punctuation)).lower()\n",
    "stop = stopword.remove(kalimat)\n",
    "print(kalimat)\n",
    "print(stop)"
   ]
  },
  {
   "cell_type": "markdown",
   "metadata": {},
   "source": [
    "Pre-process untuk menghapus links, mentions(@), hashtag(#), single letters, hasil emote(\\u, \\n), digit, dan tanda baca"
   ]
  },
  {
   "cell_type": "code",
   "execution_count": 8,
   "metadata": {
    "id": "SGkL4p-Kg4lF"
   },
   "outputs": [],
   "source": [
    "def clean_text(text):\n",
    "  text = text.lower()\n",
    "  text = re.compile('#\\w+ ').sub('', re.compile('rt @\\w+: ').sub('', text, count=1)).strip()\n",
    "  text = re.sub(r\"http\\S+\", \"\", text)\n",
    "  text = re.sub(r'@\\w+', '', text)\n",
    "  text = re.sub(r'#debat\\w+', '', text)\n",
    "  text = text.strip().replace('\\\\n', '')\n",
    "  text = re.sub(r'\\\\u\\w+', '', text)\n",
    "  text = re.sub('\\d+', '', text)\n",
    "  text = re.sub(r\"[,.;@#?!&$]+\\ *\", \" \", text)\n",
    "  text = \"\".join([char for char in text if char not in string.punctuation])\n",
    "  text = re.sub(r'\\b\\w\\b', '', text)\n",
    "  text = stopword.remove(text)\n",
    "  text = stemmer.stem(text)\n",
    "  \n",
    "  return text\n",
    "\n",
    "def text_cleaner(text):\n",
    "  text = text.lower()\n",
    "  text = re.compile('#\\w+ ').sub('', re.compile('rt @\\w+: ').sub('', text, count=1)).strip()\n",
    "  text = re.sub(r\"http\\S+\", \"\", text)\n",
    "  text = re.sub(r'@\\w+', '', text)\n",
    "  text = re.sub(r'#debat\\w+', '', text)\n",
    "  text = text.strip().replace('\\\\n', '')\n",
    "  text = re.sub(r'\\\\u\\w+', '', text)\n",
    "  text = re.sub('\\d+', '', text)\n",
    "  text = re.sub(r\"[,.;@#?!&$]+\\ *\", \" \", text)\n",
    "  text = \"\".join([char for char in text if char not in string.punctuation])\n",
    "  text = stopword.remove(text)\n",
    "  text = stemmer.stem(text)\n",
    "  \n",
    "  return text"
   ]
  },
  {
   "cell_type": "markdown",
   "metadata": {
    "id": "4THZdrcz-xYe"
   },
   "source": [
    "## Pre-process"
   ]
  },
  {
   "cell_type": "code",
   "execution_count": 9,
   "metadata": {
    "colab": {
     "base_uri": "https://localhost:8080/",
     "height": 424
    },
    "id": "wykMespNhIqT",
    "outputId": "c37bf52b-58aa-4135-bacb-4c8316831029"
   },
   "outputs": [
    {
     "data": {
      "text/html": [
       "<div>\n",
       "<style scoped>\n",
       "    .dataframe tbody tr th:only-of-type {\n",
       "        vertical-align: middle;\n",
       "    }\n",
       "\n",
       "    .dataframe tbody tr th {\n",
       "        vertical-align: top;\n",
       "    }\n",
       "\n",
       "    .dataframe thead th {\n",
       "        text-align: right;\n",
       "    }\n",
       "</style>\n",
       "<table border=\"1\" class=\"dataframe\">\n",
       "  <thead>\n",
       "    <tr style=\"text-align: right;\">\n",
       "      <th></th>\n",
       "      <th>Tweets</th>\n",
       "      <th>Label</th>\n",
       "      <th>clean</th>\n",
       "    </tr>\n",
       "  </thead>\n",
       "  <tbody>\n",
       "    <tr>\n",
       "      <th>0</th>\n",
       "      <td>rt @mrtampi: agus makin santai.\\nahok makin sa...</td>\n",
       "      <td>0</td>\n",
       "      <td>agus makin santai ahok makin santun anies maki...</td>\n",
       "    </tr>\n",
       "    <tr>\n",
       "      <th>1</th>\n",
       "      <td>pilkada dki jangan pilih pki!! berbahaya!! pil...</td>\n",
       "      <td>0</td>\n",
       "      <td>pilkada dki jangan pilih pki berbahaya pilih  ...</td>\n",
       "    </tr>\n",
       "    <tr>\n",
       "      <th>2</th>\n",
       "      <td>pdip sengaja becah belah rakyat warga dki tida...</td>\n",
       "      <td>0</td>\n",
       "      <td>pdip sengaja becah belah rakyat warga dki tida...</td>\n",
       "    </tr>\n",
       "    <tr>\n",
       "      <th>3</th>\n",
       "      <td>rt @gunromli: sylviana kesyikan ngomong sendir...</td>\n",
       "      <td>0</td>\n",
       "      <td>sylviana kesyikan ngomong sendiri lupa bertany...</td>\n",
       "    </tr>\n",
       "    <tr>\n",
       "      <th>4</th>\n",
       "      <td>rt @gunromli: sylviana kesyikan ngomong sendir...</td>\n",
       "      <td>0</td>\n",
       "      <td>sylviana kesyikan ngomong sendiri lupa bertany...</td>\n",
       "    </tr>\n",
       "    <tr>\n",
       "      <th>...</th>\n",
       "      <td>...</td>\n",
       "      <td>...</td>\n",
       "      <td>...</td>\n",
       "    </tr>\n",
       "    <tr>\n",
       "      <th>1501</th>\n",
       "      <td>rt @zul_hasan: sebelum debat kompak dukung agu...</td>\n",
       "      <td>1</td>\n",
       "      <td>sebelum debat kompak dukung agus  sylvi setela...</td>\n",
       "    </tr>\n",
       "    <tr>\n",
       "      <th>1502</th>\n",
       "      <td>#debat2pilkadadki apik kabeh, yo seng adil men...</td>\n",
       "      <td>1</td>\n",
       "      <td>apik kabeh yo seng adil mending ngko pas pemil...</td>\n",
       "    </tr>\n",
       "    <tr>\n",
       "      <th>1503</th>\n",
       "      <td>rt @erixputra: rakyat adalah bos kami. kami ad...</td>\n",
       "      <td>1</td>\n",
       "      <td>rakyat adalah bos kami kami adalah pelayan rak...</td>\n",
       "    </tr>\n",
       "    <tr>\n",
       "      <th>1504</th>\n",
       "      <td>ahok \\u2013 djarot waspadai politik uang dalam...</td>\n",
       "      <td>1</td>\n",
       "      <td>ahok  djarot waspadai politik uang dalam pilkada</td>\n",
       "    </tr>\n",
       "    <tr>\n",
       "      <th>1505</th>\n",
       "      <td>@jokowi harusnya sdh tahu dari awal ini semaki...</td>\n",
       "      <td>1</td>\n",
       "      <td>harusnya sdh tahu dari awal ini semakin masif ...</td>\n",
       "    </tr>\n",
       "  </tbody>\n",
       "</table>\n",
       "<p>1506 rows × 3 columns</p>\n",
       "</div>"
      ],
      "text/plain": [
       "                                                 Tweets  ...                                              clean\n",
       "0     rt @mrtampi: agus makin santai.\\nahok makin sa...  ...  agus makin santai ahok makin santun anies maki...\n",
       "1     pilkada dki jangan pilih pki!! berbahaya!! pil...  ...  pilkada dki jangan pilih pki berbahaya pilih  ...\n",
       "2     pdip sengaja becah belah rakyat warga dki tida...  ...  pdip sengaja becah belah rakyat warga dki tida...\n",
       "3     rt @gunromli: sylviana kesyikan ngomong sendir...  ...  sylviana kesyikan ngomong sendiri lupa bertany...\n",
       "4     rt @gunromli: sylviana kesyikan ngomong sendir...  ...  sylviana kesyikan ngomong sendiri lupa bertany...\n",
       "...                                                 ...  ...                                                ...\n",
       "1501  rt @zul_hasan: sebelum debat kompak dukung agu...  ...  sebelum debat kompak dukung agus  sylvi setela...\n",
       "1502  #debat2pilkadadki apik kabeh, yo seng adil men...  ...  apik kabeh yo seng adil mending ngko pas pemil...\n",
       "1503  rt @erixputra: rakyat adalah bos kami. kami ad...  ...  rakyat adalah bos kami kami adalah pelayan rak...\n",
       "1504  ahok \\u2013 djarot waspadai politik uang dalam...  ...   ahok  djarot waspadai politik uang dalam pilkada\n",
       "1505  @jokowi harusnya sdh tahu dari awal ini semaki...  ...  harusnya sdh tahu dari awal ini semakin masif ...\n",
       "\n",
       "[1506 rows x 3 columns]"
      ]
     },
     "execution_count": 9,
     "metadata": {
      "tags": []
     },
     "output_type": "execute_result"
    }
   ],
   "source": [
    "df_sentiment['clean'] = df_sentiment['Tweets'].apply(lambda x: clean_text(x))\n",
    "\n",
    "df_sentiment.loc[df_sentiment.Label=='negatif', 'Label'] = 0\n",
    "df_sentiment.loc[df_sentiment.Label=='positif', 'Label'] = 1\n",
    "\n",
    "df_sentiment.to_csv('prep_sentiment.csv', index=False)\n",
    "df_sentiment"
   ]
  },
  {
   "cell_type": "code",
   "execution_count": 10,
   "metadata": {
    "colab": {
     "base_uri": "https://localhost:8080/",
     "height": 36
    },
    "id": "1kTEpw-E-SX8",
    "outputId": "3de5f488-098a-4bbb-9cd2-af72672238be"
   },
   "outputs": [
    {
     "data": {
      "application/vnd.google.colaboratory.intrinsic+json": {
       "type": "string"
      },
      "text/plain": [
       "'gitu yg mau jadi pemimpin udah salah harusnya intropeksi diri bukan ngacuin jempol kebawah gitu emak sylvii '"
      ]
     },
     "execution_count": 10,
     "metadata": {
      "tags": []
     },
     "output_type": "execute_result"
    }
   ],
   "source": [
    "df_sentiment['clean'][25]"
   ]
  },
  {
   "cell_type": "code",
   "execution_count": 11,
   "metadata": {
    "colab": {
     "base_uri": "https://localhost:8080/"
    },
    "id": "IDJw6QEnCgQs",
    "outputId": "85dda50d-c713-42dd-fac0-6e5cfb14ca06"
   },
   "outputs": [
    {
     "data": {
      "text/plain": [
       "1    757\n",
       "0    749\n",
       "Name: Label, dtype: int64"
      ]
     },
     "execution_count": 11,
     "metadata": {
      "tags": []
     },
     "output_type": "execute_result"
    }
   ],
   "source": [
    "df_sentiment['Label'].value_counts()"
   ]
  },
  {
   "cell_type": "code",
   "execution_count": 12,
   "metadata": {
    "id": "deSo7zNxg47A"
   },
   "outputs": [],
   "source": [
    "train_sen, test_sen = np.split(df_sentiment.sample(frac=1, random_state=10), [int(0.6*len(df_sentiment))])\n",
    "test_sen, valid_sen = np.split(test_sen.sample(frac=1, random_state=10), [int(0.05*len(test_sen))])"
   ]
  },
  {
   "cell_type": "code",
   "execution_count": 13,
   "metadata": {
    "colab": {
     "base_uri": "https://localhost:8080/"
    },
    "id": "5mXV4F_eCZUM",
    "outputId": "8d979e20-b0d2-4fb7-8da9-c18c82a4676b"
   },
   "outputs": [
    {
     "name": "stdout",
     "output_type": "stream",
     "text": [
      "train_sen : (903, 3)\n",
      "test_sen  : (30, 3)\n",
      "valid_sen : (573, 3)\n"
     ]
    }
   ],
   "source": [
    "print(f'train_sen : {train_sen.shape}')\n",
    "print(f'test_sen  : {test_sen.shape}')\n",
    "print(f'valid_sen : {valid_sen.shape}')"
   ]
  },
  {
   "cell_type": "code",
   "execution_count": 14,
   "metadata": {
    "id": "CnvRW8xJD_hU"
   },
   "outputs": [],
   "source": [
    "train_sen_InputExamples, valid_sen_InputExamples, test_sen_InputExamples = convert_data_to_examples(train_sen, valid_sen, test_sen, 'clean', 'Label')"
   ]
  },
  {
   "cell_type": "markdown",
   "metadata": {
    "id": "TZsZBow6r7t9"
   },
   "source": [
    "## Train model"
   ]
  },
  {
   "cell_type": "code",
   "execution_count": 15,
   "metadata": {
    "colab": {
     "base_uri": "https://localhost:8080/",
     "height": 399,
     "referenced_widgets": [
      "e725f61b06a94ebb990a3fb8c7fb9ed9",
      "fb4a4531bed94e54896de7e964d30949",
      "239fe66b733f4c219aae59358a7db3d7",
      "e71ebd5935ce4a1e8bc0f0ef76e6e6ad",
      "760fc44e4a584571acebf31cdf060463",
      "5d8613a8a614451db98d428d762c676c",
      "e1b8318da65342aea04f0275e007b7a1",
      "5494632fab4c430daf7fe05dbbd098fa",
      "e61c15c3298e423280a510ee6e338868",
      "9ca7feb7275e475796e24d32fdb23c3c",
      "24e48ef0c97b40fb90f07d104652fa8a",
      "0edab542dc954cb7be25fc9bc333a68f",
      "e6daf4a63340462186d544c6b1c1a2fc",
      "06f6ed8c27cd45ec88426285103eb6b1",
      "9037809105e84aa2b45460990d3e9fa9",
      "d5e1703a908e46b39d38fc66e0da35c1",
      "729ba0cce6694fa081b200e59cc43a57",
      "f064a3d1d6d74353b0e2c0e4f6c81170",
      "477f48c206374bb19249a3a48a3e159f",
      "5e23e8cecbc84a44bce1142e07a5c489",
      "74047c9a9e7c42158c6bde3af4c8c064",
      "dd472c27c3894c608c8e68a88dbc9d9b",
      "aba22f20b30145798f2e7a13a923ff13",
      "bc7d2497ec864af0b975b9df07f1e762",
      "729c0f6da6384113bba44c8f1e16c739",
      "aac180d8ef8d482d9ebc97d487e8308b",
      "2b28f514924f4cc98e54ce8caeb9b32d",
      "775b196bd9c041bf87b6b4da93842a75",
      "f2446f6ab4c44260ad13082b786c6887",
      "36155f7564c4476aaa36331434caa2c5",
      "ce35d0be3b694c0d903be0ed8745d836",
      "cc4b3858cab741969c478ec493d7ed05",
      "f33602a90c8a4b4d9add7f4f4bc4c79f",
      "699d4bd7f2d942c392f0cdf4eff1df2c",
      "0b1b6f8e732e46708e5b8cf93581e615",
      "524b2a16dd994fbb90ad3b890a9d744c",
      "ca78f32b055a4176b43f46c3661ee192",
      "179d46cfcef7416f89473e788ab660d5",
      "6869ee6deccb4cba88f28b7fde1b2e13",
      "2b5accbef59a42d9be11fac1b02bc59b"
     ]
    },
    "id": "DBDt962lEFME",
    "outputId": "b4328834-44d4-4643-e552-8d03331542ba"
   },
   "outputs": [
    {
     "data": {
      "application/vnd.jupyter.widget-view+json": {
       "model_id": "e725f61b06a94ebb990a3fb8c7fb9ed9",
       "version_major": 2,
       "version_minor": 0
      },
      "text/plain": [
       "HBox(children=(FloatProgress(value=0.0, description='Downloading', max=468.0, style=ProgressStyle(description_…"
      ]
     },
     "metadata": {
      "tags": []
     },
     "output_type": "display_data"
    },
    {
     "name": "stdout",
     "output_type": "stream",
     "text": [
      "\n"
     ]
    },
    {
     "data": {
      "application/vnd.jupyter.widget-view+json": {
       "model_id": "e61c15c3298e423280a510ee6e338868",
       "version_major": 2,
       "version_minor": 0
      },
      "text/plain": [
       "HBox(children=(FloatProgress(value=0.0, description='Downloading', max=545136632.0, style=ProgressStyle(descri…"
      ]
     },
     "metadata": {
      "tags": []
     },
     "output_type": "display_data"
    },
    {
     "name": "stdout",
     "output_type": "stream",
     "text": [
      "\n"
     ]
    },
    {
     "name": "stderr",
     "output_type": "stream",
     "text": [
      "All model checkpoint layers were used when initializing TFBertForSequenceClassification.\n",
      "\n",
      "Some layers of TFBertForSequenceClassification were not initialized from the model checkpoint at cahya/bert-base-indonesian-522M and are newly initialized: ['classifier']\n",
      "You should probably TRAIN this model on a down-stream task to be able to use it for predictions and inference.\n"
     ]
    },
    {
     "data": {
      "application/vnd.jupyter.widget-view+json": {
       "model_id": "729ba0cce6694fa081b200e59cc43a57",
       "version_major": 2,
       "version_minor": 0
      },
      "text/plain": [
       "HBox(children=(FloatProgress(value=0.0, description='Downloading', max=229513.0, style=ProgressStyle(descripti…"
      ]
     },
     "metadata": {
      "tags": []
     },
     "output_type": "display_data"
    },
    {
     "name": "stdout",
     "output_type": "stream",
     "text": [
      "\n"
     ]
    },
    {
     "data": {
      "application/vnd.jupyter.widget-view+json": {
       "model_id": "729c0f6da6384113bba44c8f1e16c739",
       "version_major": 2,
       "version_minor": 0
      },
      "text/plain": [
       "HBox(children=(FloatProgress(value=0.0, description='Downloading', max=112.0, style=ProgressStyle(description_…"
      ]
     },
     "metadata": {
      "tags": []
     },
     "output_type": "display_data"
    },
    {
     "name": "stdout",
     "output_type": "stream",
     "text": [
      "\n"
     ]
    },
    {
     "data": {
      "application/vnd.jupyter.widget-view+json": {
       "model_id": "f33602a90c8a4b4d9add7f4f4bc4c79f",
       "version_major": 2,
       "version_minor": 0
      },
      "text/plain": [
       "HBox(children=(FloatProgress(value=0.0, description='Downloading', max=62.0, style=ProgressStyle(description_w…"
      ]
     },
     "metadata": {
      "tags": []
     },
     "output_type": "display_data"
    },
    {
     "name": "stdout",
     "output_type": "stream",
     "text": [
      "\n"
     ]
    },
    {
     "name": "stderr",
     "output_type": "stream",
     "text": [
      "/usr/local/lib/python3.6/dist-packages/transformers/tokenization_utils_base.py:2155: FutureWarning: The `pad_to_max_length` argument is deprecated and will be removed in a future version, use `padding=True` or `padding='longest'` to pad to the longest sequence in the batch, or use `padding='max_length'` to pad to a max length. In this case, you can give a specific length with `max_length` (e.g. `max_length=45`) or leave max_length to None to pad to the maximal input size of the model (e.g. 512 for Bert).\n",
      "  FutureWarning,\n"
     ]
    }
   ],
   "source": [
    "tensorboard_callback_sentiment = tf.keras.callbacks.TensorBoard(log_dir=\"logs_sen\")\n",
    "model_sentiment = TFBertForSequenceClassification.from_pretrained(model_name)\n",
    "tokenizer = BertTokenizer.from_pretrained(model_name)\n",
    "\n",
    "train_sen_data = convert_examples_to_tf_dataset(list(train_sen_InputExamples), tokenizer)\n",
    "train_sen_data = train_sen_data.shuffle(100).batch(32).repeat(2)\n",
    "\n",
    "valid_sen_data = convert_examples_to_tf_dataset(list(valid_sen_InputExamples), tokenizer)\n",
    "valid_sen_data = valid_sen_data.batch(32)\n",
    "\n",
    "test_sen_data = convert_examples_to_tf_dataset(list(test_sen_InputExamples), tokenizer)\n",
    "test_sen_data = test_sen_data.batch(32)"
   ]
  },
  {
   "cell_type": "code",
   "execution_count": 16,
   "metadata": {
    "colab": {
     "base_uri": "https://localhost:8080/"
    },
    "id": "lMgm60uDEbC8",
    "outputId": "7149918f-0b0b-4937-9265-56b1b72fe76c"
   },
   "outputs": [
    {
     "name": "stdout",
     "output_type": "stream",
     "text": [
      "Epoch 1/2\n",
      "WARNING:tensorflow:The parameters `output_attentions`, `output_hidden_states` and `use_cache` cannot be updated when calling a model.They have to be set to True/False in the config object (i.e.: `config=XConfig.from_pretrained('name', output_attentions=True)`).WARNING:tensorflow:AutoGraph could not transform <bound method Socket.send of <zmq.sugar.socket.Socket object at 0x7fe6c00066c8>> and will run it as-is.\n",
      "Please report this to the TensorFlow team. When filing the bug, set the verbosity to 10 (on Linux, `export AUTOGRAPH_VERBOSITY=10`) and attach the full output.\n",
      "Cause: <cyfunction Socket.send at 0x7fe6dd4e62a0> is not a module, class, method, function, traceback, frame, or code object\n",
      "To silence this warning, decorate the function with @tf.autograph.experimental.do_not_convert\n",
      "WARNING: AutoGraph could not transform <bound method Socket.send of <zmq.sugar.socket.Socket object at 0x7fe6c00066c8>> and will run it as-is.\n",
      "Please report this to the TensorFlow team. When filing the bug, set the verbosity to 10 (on Linux, `export AUTOGRAPH_VERBOSITY=10`) and attach the full output.\n",
      "Cause: <cyfunction Socket.send at 0x7fe6dd4e62a0> is not a module, class, method, function, traceback, frame, or code object\n",
      "To silence this warning, decorate the function with @tf.autograph.experimental.do_not_convert\n",
      "\n",
      "WARNING:tensorflow:AutoGraph could not transform <function wrap at 0x7fe6db2c0c80> and will run it as-is.\n",
      "Cause: while/else statement not yet supported\n",
      "To silence this warning, decorate the function with @tf.autograph.experimental.do_not_convert\n",
      "WARNING: AutoGraph could not transform <function wrap at 0x7fe6db2c0c80> and will run it as-is.\n",
      "Cause: while/else statement not yet supported\n",
      "To silence this warning, decorate the function with @tf.autograph.experimental.do_not_convert\n",
      "WARNING:tensorflow:The parameter `return_dict` cannot be set in graph mode and will always be set to `True`.\n",
      "WARNING:tensorflow:The parameters `output_attentions`, `output_hidden_states` and `use_cache` cannot be updated when calling a model.They have to be set to True/False in the config object (i.e.: `config=XConfig.from_pretrained('name', output_attentions=True)`).\n",
      "WARNING:tensorflow:The parameter `return_dict` cannot be set in graph mode and will always be set to `True`.\n",
      "     58/Unknown - 91s 817ms/step - loss: 0.6035 - accuracy: 0.6504WARNING:tensorflow:The parameters `output_attentions`, `output_hidden_states` and `use_cache` cannot be updated when calling a model.They have to be set to True/False in the config object (i.e.: `config=XConfig.from_pretrained('name', output_attentions=True)`).\n",
      "WARNING:tensorflow:The parameter `return_dict` cannot be set in graph mode and will always be set to `True`.\n",
      "58/58 [==============================] - 98s 941ms/step - loss: 0.6015 - accuracy: 0.6522 - val_loss: 0.4639 - val_accuracy: 0.7906\n",
      "Epoch 2/2\n",
      "58/58 [==============================] - 54s 927ms/step - loss: 0.2089 - accuracy: 0.9260 - val_loss: 0.6053 - val_accuracy: 0.7766\n"
     ]
    },
    {
     "data": {
      "text/plain": [
       "<tensorflow.python.keras.callbacks.History at 0x7fe5d2280da0>"
      ]
     },
     "execution_count": 16,
     "metadata": {
      "tags": []
     },
     "output_type": "execute_result"
    }
   ],
   "source": [
    "optimizer = tf.keras.optimizers.Adam(learning_rate=3e-5)\n",
    "loss = tf.keras.losses.SparseCategoricalCrossentropy(from_logits=True)\n",
    "metric = tf.keras.metrics.SparseCategoricalAccuracy('accuracy')\n",
    "\n",
    "model_sentiment.compile(optimizer=optimizer, loss=loss, metrics=[metric])\n",
    "\n",
    "model_sentiment.fit(train_sen_data, epochs=2, validation_data=valid_sen_data, callbacks=[tensorboard_callback_sentiment])"
   ]
  },
  {
   "cell_type": "markdown",
   "metadata": {
    "id": "yYD5Odf31NAR"
   },
   "source": [
    "### Evaluation"
   ]
  },
  {
   "cell_type": "code",
   "execution_count": 36,
   "metadata": {
    "id": "Tc69gKQe7HyR"
   },
   "outputs": [],
   "source": [
    "from sklearn.metrics import classification_report\n",
    "\n",
    "def model_eval(model, test_data, test_label, verbose=False):\n",
    "  tf_batch = tokenizer(test_data, max_length=128, padding=True, truncation=True, return_tensors='tf')\n",
    "  tf_outputs = model(tf_batch)\n",
    "  tf_predictions = tf.nn.softmax(tf_outputs[0], axis=-1)\n",
    "\n",
    "  labels = ['NEGATIVE', 'POSITIVE']\n",
    "  label = tf.argmax(tf_predictions, axis=1)\n",
    "  label = label.numpy()\n",
    "\n",
    "  # Print all Text and Prediction\n",
    "  if verbose:\n",
    "    for i in range(len(test_data)):\n",
    "      print('[', i+1, ']', test_data[i], \": \", labels[label[i]])\n",
    "\n",
    "  print(f'\\nPrediction:\\n{label.tolist()}')\n",
    "  print(f'True label:\\n{test_label}')\n",
    "\n",
    "  if verbose: return\n",
    "\n",
    "  rep = classification_report(test_label, label)\n",
    "  print(f'\\nClassification Report:\\n{rep}')"
   ]
  },
  {
   "cell_type": "code",
   "execution_count": 18,
   "metadata": {
    "colab": {
     "base_uri": "https://localhost:8080/",
     "height": 206
    },
    "id": "raqXHQgrKZOo",
    "outputId": "9885411b-697e-4d97-9be3-2282988e56f3"
   },
   "outputs": [
    {
     "data": {
      "text/html": [
       "<div>\n",
       "<style scoped>\n",
       "    .dataframe tbody tr th:only-of-type {\n",
       "        vertical-align: middle;\n",
       "    }\n",
       "\n",
       "    .dataframe tbody tr th {\n",
       "        vertical-align: top;\n",
       "    }\n",
       "\n",
       "    .dataframe thead th {\n",
       "        text-align: right;\n",
       "    }\n",
       "</style>\n",
       "<table border=\"1\" class=\"dataframe\">\n",
       "  <thead>\n",
       "    <tr style=\"text-align: right;\">\n",
       "      <th></th>\n",
       "      <th>Tweets</th>\n",
       "      <th>Label</th>\n",
       "      <th>clean</th>\n",
       "    </tr>\n",
       "  </thead>\n",
       "  <tbody>\n",
       "    <tr>\n",
       "      <th>532</th>\n",
       "      <td>vivacoid: ini video saat nusron wahid kritik m...</td>\n",
       "      <td>0</td>\n",
       "      <td>vivacoid ini video saat nusron wahid kritik mu...</td>\n",
       "    </tr>\n",
       "    <tr>\n",
       "      <th>254</th>\n",
       "      <td>rt @cagubnyinyir: setara institut nilai mui be...</td>\n",
       "      <td>0</td>\n",
       "      <td>setara institut nilai mui berpolitik tdk sehat</td>\n",
       "    </tr>\n",
       "    <tr>\n",
       "      <th>453</th>\n",
       "      <td>rt @batack_overkill: #debat2pilkadadki paslon ...</td>\n",
       "      <td>0</td>\n",
       "      <td>paslon   akan menaikkan gaji guru paud jika te...</td>\n",
       "    </tr>\n",
       "    <tr>\n",
       "      <th>1497</th>\n",
       "      <td>#debat2pilkadadki 1 dan 3 sebaiknya pahami dul...</td>\n",
       "      <td>1</td>\n",
       "      <td>dan  sebaiknya pahami dulu undangundang dan h...</td>\n",
       "    </tr>\n",
       "    <tr>\n",
       "      <th>848</th>\n",
       "      <td>rt @ochibi19: jelas pk ahok paling brkemampuan...</td>\n",
       "      <td>1</td>\n",
       "      <td>jelas pk ahok paling brkemampuan jd gubernur k...</td>\n",
       "    </tr>\n",
       "  </tbody>\n",
       "</table>\n",
       "</div>"
      ],
      "text/plain": [
       "                                                 Tweets  ...                                              clean\n",
       "532   vivacoid: ini video saat nusron wahid kritik m...  ...  vivacoid ini video saat nusron wahid kritik mu...\n",
       "254   rt @cagubnyinyir: setara institut nilai mui be...  ...     setara institut nilai mui berpolitik tdk sehat\n",
       "453   rt @batack_overkill: #debat2pilkadadki paslon ...  ...  paslon   akan menaikkan gaji guru paud jika te...\n",
       "1497  #debat2pilkadadki 1 dan 3 sebaiknya pahami dul...  ...   dan  sebaiknya pahami dulu undangundang dan h...\n",
       "848   rt @ochibi19: jelas pk ahok paling brkemampuan...  ...  jelas pk ahok paling brkemampuan jd gubernur k...\n",
       "\n",
       "[5 rows x 3 columns]"
      ]
     },
     "execution_count": 18,
     "metadata": {
      "tags": []
     },
     "output_type": "execute_result"
    }
   ],
   "source": [
    "test_sen_list = test_sen['clean'].head(test_sen.shape[0]).values.tolist()\n",
    "test_sen_label = test_sen['Label'].head(test_sen.shape[0]).values.tolist()\n",
    "test_sen.head()"
   ]
  },
  {
   "cell_type": "code",
   "execution_count": 19,
   "metadata": {
    "colab": {
     "base_uri": "https://localhost:8080/"
    },
    "id": "xKP-4_DVEel-",
    "outputId": "93d7d38f-6103-487f-95a7-bf1a838c1ad1"
   },
   "outputs": [
    {
     "name": "stdout",
     "output_type": "stream",
     "text": [
      "\n",
      "Prediction:\n",
      "[0, 0, 0, 1, 1, 1, 1, 1, 0, 0, 1, 0, 1, 1, 0, 1, 1, 1, 0, 0, 1, 0, 1, 1, 0, 0, 1, 0, 1, 0]\n",
      "True label:\n",
      "[0, 0, 0, 1, 1, 0, 0, 1, 0, 1, 1, 1, 0, 1, 0, 1, 0, 1, 1, 1, 0, 0, 1, 1, 0, 1, 0, 0, 1, 0]\n",
      "\n",
      "Classification Report:\n",
      "              precision    recall  f1-score   support\n",
      "\n",
      "           0       0.64      0.60      0.62        15\n",
      "           1       0.62      0.67      0.65        15\n",
      "\n",
      "    accuracy                           0.63        30\n",
      "   macro avg       0.63      0.63      0.63        30\n",
      "weighted avg       0.63      0.63      0.63        30\n",
      "\n"
     ]
    }
   ],
   "source": [
    "model_eval(model_sentiment, test_sen_list, test_sen_label)"
   ]
  },
  {
   "cell_type": "markdown",
   "metadata": {
    "id": "Vr6QC17KMQbG"
   },
   "source": [
    "# hatespeech.txt"
   ]
  },
  {
   "cell_type": "code",
   "execution_count": 20,
   "metadata": {
    "colab": {
     "base_uri": "https://localhost:8080/",
     "height": 424
    },
    "id": "M7GqXyrpCSTv",
    "outputId": "4982d115-b898-4191-9b32-f911f3ff67cb"
   },
   "outputs": [
    {
     "data": {
      "text/html": [
       "<div>\n",
       "<style scoped>\n",
       "    .dataframe tbody tr th:only-of-type {\n",
       "        vertical-align: middle;\n",
       "    }\n",
       "\n",
       "    .dataframe tbody tr th {\n",
       "        vertical-align: top;\n",
       "    }\n",
       "\n",
       "    .dataframe thead th {\n",
       "        text-align: right;\n",
       "    }\n",
       "</style>\n",
       "<table border=\"1\" class=\"dataframe\">\n",
       "  <thead>\n",
       "    <tr style=\"text-align: right;\">\n",
       "      <th></th>\n",
       "      <th>Label</th>\n",
       "      <th>Tweet</th>\n",
       "    </tr>\n",
       "  </thead>\n",
       "  <tbody>\n",
       "    <tr>\n",
       "      <th>0</th>\n",
       "      <td>Non_HS</td>\n",
       "      <td>RT @spardaxyz: Fadli Zon Minta Mendagri Segera...</td>\n",
       "    </tr>\n",
       "    <tr>\n",
       "      <th>1</th>\n",
       "      <td>Non_HS</td>\n",
       "      <td>RT @baguscondromowo: Mereka terus melukai aksi...</td>\n",
       "    </tr>\n",
       "    <tr>\n",
       "      <th>2</th>\n",
       "      <td>Non_HS</td>\n",
       "      <td>Sylvi: bagaimana gurbernur melakukan kekerasan...</td>\n",
       "    </tr>\n",
       "    <tr>\n",
       "      <th>3</th>\n",
       "      <td>Non_HS</td>\n",
       "      <td>Ahmad Dhani Tak Puas Debat Pilkada, Masalah Ja...</td>\n",
       "    </tr>\n",
       "    <tr>\n",
       "      <th>4</th>\n",
       "      <td>Non_HS</td>\n",
       "      <td>RT @lisdaulay28: Waspada KTP palsu.....kawal P...</td>\n",
       "    </tr>\n",
       "    <tr>\n",
       "      <th>...</th>\n",
       "      <td>...</td>\n",
       "      <td>...</td>\n",
       "    </tr>\n",
       "    <tr>\n",
       "      <th>708</th>\n",
       "      <td>HS</td>\n",
       "      <td>Muka Si BABi Ahok Tuh Yg Mirip SERBET Lantai.....</td>\n",
       "    </tr>\n",
       "    <tr>\n",
       "      <th>709</th>\n",
       "      <td>HS</td>\n",
       "      <td>Betul bang hancurkan merka bang, musnahkan chi...</td>\n",
       "    </tr>\n",
       "    <tr>\n",
       "      <th>710</th>\n",
       "      <td>HS</td>\n",
       "      <td>Sapa Yg bilang Ahok anti korupsi!?, klo grombo...</td>\n",
       "    </tr>\n",
       "    <tr>\n",
       "      <th>711</th>\n",
       "      <td>HS</td>\n",
       "      <td>Gw juga ngimpi SENTILIN BIJI BABI AHOK, pcetar...</td>\n",
       "    </tr>\n",
       "    <tr>\n",
       "      <th>712</th>\n",
       "      <td>HS</td>\n",
       "      <td>Mudah2an gw ketemu sama SI BABI IWAN BOPENG DI...</td>\n",
       "    </tr>\n",
       "  </tbody>\n",
       "</table>\n",
       "<p>713 rows × 2 columns</p>\n",
       "</div>"
      ],
      "text/plain": [
       "      Label                                              Tweet\n",
       "0    Non_HS  RT @spardaxyz: Fadli Zon Minta Mendagri Segera...\n",
       "1    Non_HS  RT @baguscondromowo: Mereka terus melukai aksi...\n",
       "2    Non_HS  Sylvi: bagaimana gurbernur melakukan kekerasan...\n",
       "3    Non_HS  Ahmad Dhani Tak Puas Debat Pilkada, Masalah Ja...\n",
       "4    Non_HS  RT @lisdaulay28: Waspada KTP palsu.....kawal P...\n",
       "..      ...                                                ...\n",
       "708      HS  Muka Si BABi Ahok Tuh Yg Mirip SERBET Lantai.....\n",
       "709      HS  Betul bang hancurkan merka bang, musnahkan chi...\n",
       "710      HS  Sapa Yg bilang Ahok anti korupsi!?, klo grombo...\n",
       "711      HS  Gw juga ngimpi SENTILIN BIJI BABI AHOK, pcetar...\n",
       "712      HS  Mudah2an gw ketemu sama SI BABI IWAN BOPENG DI...\n",
       "\n",
       "[713 rows x 2 columns]"
      ]
     },
     "execution_count": 20,
     "metadata": {
      "tags": []
     },
     "output_type": "execute_result"
    }
   ],
   "source": [
    "df_hatespeech = pd.read_csv('hatespeech.txt', sep='\\t', engine='python')\n",
    "\n",
    "df_hatespeech"
   ]
  },
  {
   "cell_type": "markdown",
   "metadata": {
    "id": "lk2mS_Wz-01z"
   },
   "source": [
    "## Pre-process"
   ]
  },
  {
   "cell_type": "code",
   "execution_count": 21,
   "metadata": {
    "colab": {
     "base_uri": "https://localhost:8080/",
     "height": 424
    },
    "id": "Jd4sPRg67Q5z",
    "outputId": "01df55ac-e6bf-4073-f7de-b7ef103eaa4a"
   },
   "outputs": [
    {
     "data": {
      "text/html": [
       "<div>\n",
       "<style scoped>\n",
       "    .dataframe tbody tr th:only-of-type {\n",
       "        vertical-align: middle;\n",
       "    }\n",
       "\n",
       "    .dataframe tbody tr th {\n",
       "        vertical-align: top;\n",
       "    }\n",
       "\n",
       "    .dataframe thead th {\n",
       "        text-align: right;\n",
       "    }\n",
       "</style>\n",
       "<table border=\"1\" class=\"dataframe\">\n",
       "  <thead>\n",
       "    <tr style=\"text-align: right;\">\n",
       "      <th></th>\n",
       "      <th>Label</th>\n",
       "      <th>Tweet</th>\n",
       "      <th>clean</th>\n",
       "    </tr>\n",
       "  </thead>\n",
       "  <tbody>\n",
       "    <tr>\n",
       "      <th>0</th>\n",
       "      <td>1</td>\n",
       "      <td>RT @spardaxyz: Fadli Zon Minta Mendagri Segera...</td>\n",
       "      <td>fadli zon minta mendagri segera menonaktifkan ...</td>\n",
       "    </tr>\n",
       "    <tr>\n",
       "      <th>1</th>\n",
       "      <td>1</td>\n",
       "      <td>RT @baguscondromowo: Mereka terus melukai aksi...</td>\n",
       "      <td>mereka terus melukai aksi dalam rangka memenja...</td>\n",
       "    </tr>\n",
       "    <tr>\n",
       "      <th>2</th>\n",
       "      <td>1</td>\n",
       "      <td>Sylvi: bagaimana gurbernur melakukan kekerasan...</td>\n",
       "      <td>sylvi bagaimana gurbernur melakukan kekerasan ...</td>\n",
       "    </tr>\n",
       "    <tr>\n",
       "      <th>3</th>\n",
       "      <td>1</td>\n",
       "      <td>Ahmad Dhani Tak Puas Debat Pilkada, Masalah Ja...</td>\n",
       "      <td>ahmad dhani tak puas debat pilkada masalah jal...</td>\n",
       "    </tr>\n",
       "    <tr>\n",
       "      <th>4</th>\n",
       "      <td>1</td>\n",
       "      <td>RT @lisdaulay28: Waspada KTP palsu.....kawal P...</td>\n",
       "      <td>waspada ktp palsu kawal pilkada</td>\n",
       "    </tr>\n",
       "    <tr>\n",
       "      <th>...</th>\n",
       "      <td>...</td>\n",
       "      <td>...</td>\n",
       "      <td>...</td>\n",
       "    </tr>\n",
       "    <tr>\n",
       "      <th>708</th>\n",
       "      <td>0</td>\n",
       "      <td>Muka Si BABi Ahok Tuh Yg Mirip SERBET Lantai.....</td>\n",
       "      <td>muka si babi ahok tuh yg mirip serbet lantai</td>\n",
       "    </tr>\n",
       "    <tr>\n",
       "      <th>709</th>\n",
       "      <td>0</td>\n",
       "      <td>Betul bang hancurkan merka bang, musnahkan chi...</td>\n",
       "      <td>betul bang hancurkan merka bang musnahkan chin...</td>\n",
       "    </tr>\n",
       "    <tr>\n",
       "      <th>710</th>\n",
       "      <td>0</td>\n",
       "      <td>Sapa Yg bilang Ahok anti korupsi!?, klo grombo...</td>\n",
       "      <td>sapa yg bilang ahok anti korupsi klo grombolan...</td>\n",
       "    </tr>\n",
       "    <tr>\n",
       "      <th>711</th>\n",
       "      <td>0</td>\n",
       "      <td>Gw juga ngimpi SENTILIN BIJI BABI AHOK, pcetar...</td>\n",
       "      <td>gw juga ngimpi sentilin biji babi ahok pcetar ...</td>\n",
       "    </tr>\n",
       "    <tr>\n",
       "      <th>712</th>\n",
       "      <td>0</td>\n",
       "      <td>Mudah2an gw ketemu sama SI BABI IWAN BOPENG DI...</td>\n",
       "      <td>mudahan gw ketemu sama si babi iwan bopeng di ...</td>\n",
       "    </tr>\n",
       "  </tbody>\n",
       "</table>\n",
       "<p>713 rows × 3 columns</p>\n",
       "</div>"
      ],
      "text/plain": [
       "    Label  ...                                              clean\n",
       "0       1  ...  fadli zon minta mendagri segera menonaktifkan ...\n",
       "1       1  ...  mereka terus melukai aksi dalam rangka memenja...\n",
       "2       1  ...  sylvi bagaimana gurbernur melakukan kekerasan ...\n",
       "3       1  ...  ahmad dhani tak puas debat pilkada masalah jal...\n",
       "4       1  ...                    waspada ktp palsu kawal pilkada\n",
       "..    ...  ...                                                ...\n",
       "708     0  ...      muka si babi ahok tuh yg mirip serbet lantai \n",
       "709     0  ...  betul bang hancurkan merka bang musnahkan chin...\n",
       "710     0  ...  sapa yg bilang ahok anti korupsi klo grombolan...\n",
       "711     0  ...  gw juga ngimpi sentilin biji babi ahok pcetar ...\n",
       "712     0  ...  mudahan gw ketemu sama si babi iwan bopeng di ...\n",
       "\n",
       "[713 rows x 3 columns]"
      ]
     },
     "execution_count": 21,
     "metadata": {
      "tags": []
     },
     "output_type": "execute_result"
    }
   ],
   "source": [
    "df_hatespeech['clean'] = df_hatespeech['Tweet'].apply(lambda x: clean_text(x))\n",
    "\n",
    "df_hatespeech.loc[df_hatespeech.Label=='HS', 'Label'] = 0\n",
    "df_hatespeech.loc[df_hatespeech.Label=='Non_HS', 'Label'] = 1\n",
    "\n",
    "df_hatespeech.to_csv('prep_hatespeech.csv', index=False)\n",
    "df_hatespeech"
   ]
  },
  {
   "cell_type": "code",
   "execution_count": 22,
   "metadata": {
    "colab": {
     "base_uri": "https://localhost:8080/"
    },
    "id": "IbAkKZzpCM81",
    "outputId": "1a83bb4b-f391-4147-ff2e-0b720a9b0025"
   },
   "outputs": [
    {
     "data": {
      "text/plain": [
       "1    453\n",
       "0    260\n",
       "Name: Label, dtype: int64"
      ]
     },
     "execution_count": 22,
     "metadata": {
      "tags": []
     },
     "output_type": "execute_result"
    }
   ],
   "source": [
    "df_hatespeech['Label'].value_counts()"
   ]
  },
  {
   "cell_type": "code",
   "execution_count": 23,
   "metadata": {
    "id": "84jYC8wJcu9A"
   },
   "outputs": [],
   "source": [
    "train_hs, test_hs = np.split(df_hatespeech.sample(frac=1, random_state=1), [int(0.6*len(df_hatespeech))])\n",
    "test_hs, valid_hs = np.split(test_hs.sample(frac=1, random_state=5), [int(0.1*len(test_hs))])"
   ]
  },
  {
   "cell_type": "code",
   "execution_count": 24,
   "metadata": {
    "colab": {
     "base_uri": "https://localhost:8080/"
    },
    "id": "rpM7OdQWc9Ce",
    "outputId": "acb5bf06-4224-43ef-b0d7-7dbcad5bc9ed"
   },
   "outputs": [
    {
     "name": "stdout",
     "output_type": "stream",
     "text": [
      "train_sen : (427, 3)\n",
      "test_sen  : (28, 3)\n",
      "valid_sen : (258, 3)\n"
     ]
    }
   ],
   "source": [
    "print(f'train_sen : {train_hs.shape}')\n",
    "print(f'test_sen  : {test_hs.shape}')\n",
    "print(f'valid_sen : {valid_hs.shape}')"
   ]
  },
  {
   "cell_type": "code",
   "execution_count": 25,
   "metadata": {
    "id": "wlCMbqlmc_X_"
   },
   "outputs": [],
   "source": [
    "train_hs_InputExamples, valid_hs_InputExamples, test_hs_InputExamples = convert_data_to_examples(train_hs, valid_hs, test_hs, 'clean', 'Label')"
   ]
  },
  {
   "cell_type": "markdown",
   "metadata": {
    "id": "bHmvYyfzsLt3"
   },
   "source": [
    "## Train Model"
   ]
  },
  {
   "cell_type": "code",
   "execution_count": 26,
   "metadata": {
    "colab": {
     "base_uri": "https://localhost:8080/"
    },
    "id": "cptzKdzxdX8n",
    "outputId": "c3dc306e-3a99-458d-817b-2c6f279cb935"
   },
   "outputs": [
    {
     "name": "stderr",
     "output_type": "stream",
     "text": [
      "All model checkpoint layers were used when initializing TFBertForSequenceClassification.\n",
      "\n",
      "Some layers of TFBertForSequenceClassification were not initialized from the model checkpoint at cahya/bert-base-indonesian-522M and are newly initialized: ['classifier']\n",
      "You should probably TRAIN this model on a down-stream task to be able to use it for predictions and inference.\n",
      "/usr/local/lib/python3.6/dist-packages/transformers/tokenization_utils_base.py:2155: FutureWarning: The `pad_to_max_length` argument is deprecated and will be removed in a future version, use `padding=True` or `padding='longest'` to pad to the longest sequence in the batch, or use `padding='max_length'` to pad to a max length. In this case, you can give a specific length with `max_length` (e.g. `max_length=45`) or leave max_length to None to pad to the maximal input size of the model (e.g. 512 for Bert).\n",
      "  FutureWarning,\n"
     ]
    }
   ],
   "source": [
    "tensorboard_callback_hs = tf.keras.callbacks.TensorBoard(log_dir=\"logs_hs\")\n",
    "model_hatespeech = TFBertForSequenceClassification.from_pretrained(model_name)\n",
    "tokenizer = BertTokenizer.from_pretrained(model_name)\n",
    "\n",
    "train_hs_data = convert_examples_to_tf_dataset(list(train_hs_InputExamples), tokenizer)\n",
    "train_hs_data = train_hs_data.shuffle(100).batch(32).repeat(2)\n",
    "\n",
    "valid_hs_data = convert_examples_to_tf_dataset(list(valid_hs_InputExamples), tokenizer)\n",
    "valid_hs_data = valid_hs_data.batch(32)\n",
    "\n",
    "test_hs_data = convert_examples_to_tf_dataset(list(test_hs_InputExamples), tokenizer)\n",
    "test_hs_data = test_hs_data.batch(32)"
   ]
  },
  {
   "cell_type": "code",
   "execution_count": 27,
   "metadata": {
    "colab": {
     "base_uri": "https://localhost:8080/"
    },
    "id": "TTqNtlOSdr4W",
    "outputId": "b0caa506-7c32-4458-8528-68658739ec1d"
   },
   "outputs": [
    {
     "name": "stdout",
     "output_type": "stream",
     "text": [
      "Epoch 1/2\n",
      "WARNING:tensorflow:The parameters `output_attentions`, `output_hidden_states` and `use_cache` cannot be updated when calling a model.They have to be set to True/False in the config object (i.e.: `config=XConfig.from_pretrained('name', output_attentions=True)`).\n",
      "WARNING:tensorflow:The parameter `return_dict` cannot be set in graph mode and will always be set to `True`.\n",
      "WARNING:tensorflow:The parameters `output_attentions`, `output_hidden_states` and `use_cache` cannot be updated when calling a model.They have to be set to True/False in the config object (i.e.: `config=XConfig.from_pretrained('name', output_attentions=True)`).\n",
      "WARNING:tensorflow:The parameter `return_dict` cannot be set in graph mode and will always be set to `True`.\n",
      "     28/Unknown - 33s 857ms/step - loss: 0.5513 - accuracy: 0.6942WARNING:tensorflow:The parameters `output_attentions`, `output_hidden_states` and `use_cache` cannot be updated when calling a model.They have to be set to True/False in the config object (i.e.: `config=XConfig.from_pretrained('name', output_attentions=True)`).\n",
      "WARNING:tensorflow:The parameter `return_dict` cannot be set in graph mode and will always be set to `True`.\n",
      "28/28 [==============================] - 37s 994ms/step - loss: 0.5464 - accuracy: 0.6979 - val_loss: 0.3783 - val_accuracy: 0.8643\n",
      "Epoch 2/2\n",
      "28/28 [==============================] - 26s 926ms/step - loss: 0.1742 - accuracy: 0.9325 - val_loss: 0.4141 - val_accuracy: 0.8798\n"
     ]
    },
    {
     "data": {
      "text/plain": [
       "<tensorflow.python.keras.callbacks.History at 0x7fe5367e38d0>"
      ]
     },
     "execution_count": 27,
     "metadata": {
      "tags": []
     },
     "output_type": "execute_result"
    }
   ],
   "source": [
    "optimizer = tf.keras.optimizers.Adam(learning_rate=3e-5)\n",
    "loss = tf.keras.losses.SparseCategoricalCrossentropy(from_logits=True)\n",
    "metric = tf.keras.metrics.SparseCategoricalAccuracy('accuracy')\n",
    "\n",
    "model_hatespeech.compile(optimizer=optimizer, loss=loss, metrics=[metric])\n",
    "\n",
    "model_hatespeech.fit(train_hs_data, epochs=2, validation_data=valid_hs_data, callbacks=[tensorboard_callback_hs])"
   ]
  },
  {
   "cell_type": "markdown",
   "metadata": {
    "id": "kkaLAn_Y1R9Q"
   },
   "source": [
    "### Evaluation"
   ]
  },
  {
   "cell_type": "code",
   "execution_count": 28,
   "metadata": {
    "colab": {
     "base_uri": "https://localhost:8080/",
     "height": 206
    },
    "id": "gR3zZXgTeBzj",
    "outputId": "c5e73be8-f0a2-43d2-df47-a7b3ccde7080"
   },
   "outputs": [
    {
     "data": {
      "text/html": [
       "<div>\n",
       "<style scoped>\n",
       "    .dataframe tbody tr th:only-of-type {\n",
       "        vertical-align: middle;\n",
       "    }\n",
       "\n",
       "    .dataframe tbody tr th {\n",
       "        vertical-align: top;\n",
       "    }\n",
       "\n",
       "    .dataframe thead th {\n",
       "        text-align: right;\n",
       "    }\n",
       "</style>\n",
       "<table border=\"1\" class=\"dataframe\">\n",
       "  <thead>\n",
       "    <tr style=\"text-align: right;\">\n",
       "      <th></th>\n",
       "      <th>Label</th>\n",
       "      <th>Tweet</th>\n",
       "      <th>clean</th>\n",
       "    </tr>\n",
       "  </thead>\n",
       "  <tbody>\n",
       "    <tr>\n",
       "      <th>465</th>\n",
       "      <td>0</td>\n",
       "      <td>#DebatFinalPilkadaJKT mampuuuusssssss mpoK Sil...</td>\n",
       "      <td>mampuuuusssssss mpok silvy</td>\n",
       "    </tr>\n",
       "    <tr>\n",
       "      <th>561</th>\n",
       "      <td>0</td>\n",
       "      <td>Perilaku Si BABI @jokoanwar ini memang benci d...</td>\n",
       "      <td>perilaku si babi  ini memang benci dgn hal ber...</td>\n",
       "    </tr>\n",
       "    <tr>\n",
       "      <th>461</th>\n",
       "      <td>0</td>\n",
       "      <td>@YohanesTarigan9 saya ga habis pikir kenapa fa...</td>\n",
       "      <td>saya ga habis pikir kenapa fanboy ahok bego be...</td>\n",
       "    </tr>\n",
       "    <tr>\n",
       "      <th>711</th>\n",
       "      <td>0</td>\n",
       "      <td>Gw juga ngimpi SENTILIN BIJI BABI AHOK, pcetar...</td>\n",
       "      <td>gw juga ngimpi sentilin biji babi ahok pcetar ...</td>\n",
       "    </tr>\n",
       "    <tr>\n",
       "      <th>599</th>\n",
       "      <td>0</td>\n",
       "      <td>RT @Ra_Ria_Rana: GAK HABIS PIKIR???\\n\\nTINGGAL...</td>\n",
       "      <td>gak habis pikir tinggal nunggu adzab allah nih...</td>\n",
       "    </tr>\n",
       "  </tbody>\n",
       "</table>\n",
       "</div>"
      ],
      "text/plain": [
       "    Label  ...                                              clean\n",
       "465     0  ...                        mampuuuusssssss mpok silvy \n",
       "561     0  ...  perilaku si babi  ini memang benci dgn hal ber...\n",
       "461     0  ...  saya ga habis pikir kenapa fanboy ahok bego be...\n",
       "711     0  ...  gw juga ngimpi sentilin biji babi ahok pcetar ...\n",
       "599     0  ...  gak habis pikir tinggal nunggu adzab allah nih...\n",
       "\n",
       "[5 rows x 3 columns]"
      ]
     },
     "execution_count": 28,
     "metadata": {
      "tags": []
     },
     "output_type": "execute_result"
    }
   ],
   "source": [
    "test_hs_list = test_hs['clean'].head(test_hs.shape[0]).values.tolist()\n",
    "test_hs_label = test_hs['Label'].head(test_hs.shape[0]).values.tolist()\n",
    "test_hs.head()"
   ]
  },
  {
   "cell_type": "code",
   "execution_count": 29,
   "metadata": {
    "colab": {
     "base_uri": "https://localhost:8080/"
    },
    "id": "95lJBZK8d-jw",
    "outputId": "4db4aa1f-e241-49e7-9fa8-1ade5710ba89"
   },
   "outputs": [
    {
     "name": "stdout",
     "output_type": "stream",
     "text": [
      "\n",
      "Prediction:\n",
      "[0, 0, 1, 0, 1, 1, 1, 1, 1, 1, 1, 1, 1, 0, 0, 1, 1, 1, 0, 1, 1, 0, 1, 1, 1, 0, 1, 0]\n",
      "True label:\n",
      "[0, 0, 0, 0, 0, 1, 0, 1, 1, 1, 1, 1, 0, 0, 0, 1, 1, 1, 0, 1, 1, 0, 0, 1, 1, 0, 1, 0]\n",
      "\n",
      "Classification Report:\n",
      "              precision    recall  f1-score   support\n",
      "\n",
      "           0       1.00      0.64      0.78        14\n",
      "           1       0.74      1.00      0.85        14\n",
      "\n",
      "    accuracy                           0.82        28\n",
      "   macro avg       0.87      0.82      0.82        28\n",
      "weighted avg       0.87      0.82      0.82        28\n",
      "\n"
     ]
    }
   ],
   "source": [
    "model_eval(model_hatespeech, test_hs_list, test_hs_label)"
   ]
  },
  {
   "cell_type": "markdown",
   "metadata": {
    "id": "vEK2RGqamp2s"
   },
   "source": [
    "# Cross-Inferencing"
   ]
  },
  {
   "cell_type": "markdown",
   "metadata": {
    "id": "lgKNaTlY6u5A"
   },
   "source": [
    "## Sentiment model"
   ]
  },
  {
   "cell_type": "markdown",
   "metadata": {
    "id": "f8l3y3yYKxz0"
   },
   "source": [
    "### Sentiment data"
   ]
  },
  {
   "cell_type": "code",
   "execution_count": 39,
   "metadata": {
    "colab": {
     "base_uri": "https://localhost:8080/"
    },
    "id": "HeM67EcRK1I0",
    "outputId": "68c343ee-1651-4879-bd74-1b71ca9ea54a"
   },
   "outputs": [
    {
     "name": "stdout",
     "output_type": "stream",
     "text": [
      "[ 1 ] vivacoid ini video saat nusron wahid kritik mui soal ahok :  NEGATIVE\n",
      "[ 2 ] setara institut nilai mui berpolitik tdk sehat :  NEGATIVE\n",
      "[ 3 ] paslon   akan menaikkan gaji guru paud jika terpilih waktu jadi mendikbud ente ngapain bray tidu :  NEGATIVE\n",
      "[ 4 ]  dan  sebaiknya pahami dulu undangundang dan hukum pemerintahan daerah setelah itu pelajari data statistik  :  POSITIVE\n",
      "[ 5 ] jelas pk ahok paling brkemampuan jd gubernur klo yg kalian prmslahkan itu pribadinya kalian cuma gak kenal sja asli baik de :  POSITIVE\n",
      "[ 6 ] agus jawabnya muter ah ga tajem tepat sasaran  pic  :  POSITIVE\n",
      "[ 7 ] rachmawati tersinggung megawati ajak ahok ke makam bung karno   riau :  POSITIVE\n",
      "[ 8 ] keliatan kok najwa yg gelisah smua pertanyaan dijawab sg cerdas oleh mas agus jawab cerdas dan akurat kok dibilang emosi :  POSITIVE\n",
      "[ 9 ] lihat pa ditangkap atas laporan warga tapi btp bebas padahal ada laporan bpk   :  NEGATIVE\n",
      "[ 10 ] membangun tanpa menyakitianiessandi cerdas  santun  amp :  NEGATIVE\n",
      "[ 11 ] konteksnya mungkin sama dalam kasus ahok publik tidak rela dg pendapat ahok soal qs al maidah  :  POSITIVE\n",
      "[ 12 ] dan mas agus ikut dlm konstetasi politik karena dicalonkan oleh beberapa partai dan benar tidak pernah diduga sebelumny :  NEGATIVE\n",
      "[ 13 ] apaansi ini mas agus di matanajwa menggebugebu banget  :  POSITIVE\n",
      "[ 14 ] soal quran polisi harus cari saksi yang dengar langsung pernyataan ahok di pulau seribu :  POSITIVE\n",
      "[ 15 ]  anies baswedan hanya mengurus satu urusan saja berantakan bagaimana dia bisa berfantasi menyelesaikan banyak urusan :  NEGATIVE\n",
      "[ 16 ] analisis mengapa ahok unggul  dan paling memuaskan pasca debat :  POSITIVE\n",
      "[ 17 ] pengen tau apa tanggapan  dan   kalau  gak perlu ditanya ntar ngak nyambu :  POSITIVE\n",
      "[ 18 ] hidup misteri men kita tidak akan tau akan seperti apajalan hidup kita kedepannya  ngeri  ngeri sedap masagus yudhoyono kerenss :  POSITIVE\n",
      "[ 19 ] ibu sylvi adalah contoh bahwa wanita itu sulit ditebak dan pak anies contoh pria yg gak peka  :  NEGATIVE\n",
      "[ 20 ] ahok jelaskan alasan puluhan sekolah di dki gagal dibangun tahun ini ahok menjelaskan alasan gagalnya pemban  :  NEGATIVE\n",
      "[ 21 ]  hari makin ketauan kalo ahokers  amp :  POSITIVE\n",
      "[ 22 ] pilkada dki jakarta harap tidak pilih nomor  bahaya laten komunis  :  NEGATIVE\n",
      "[ 23 ] ahok kami bukan saja rencana lawan ketidakadilan sosial dalam birokrasi kami sudah lakukan kami hilangkan pungli dsb   :  POSITIVE\n",
      "[ 24 ] ulama yg bela ahok adalah ulama ah betapa islaminya organisasi ini jatiwaringin raya jam an tadi :  POSITIVE\n",
      "[ 25 ]  mui jatim dimas kanjeng dan ahok samasama penista agama :  NEGATIVE\n",
      "[ 26 ] serasiii :  NEGATIVE\n",
      "[ 27 ] agus makin santai ahok makin santun anies makin esmosi imho  :  POSITIVE\n",
      "[ 28 ] belum belum greget ngegampar jawabannya om agus yudhoyono bu najwa shihab masih belum dalem banget nih oke this is getting interesting  :  NEGATIVE\n",
      "[ 29 ] agus yudhoyono ternyata lebih lugas dan tegas dalam menjawab dibanding sang bapak sby yg selalu hatihati dlm menjawab :  POSITIVE\n",
      "[ 30 ] seorang dosen yang seharusnya dikagumi karena cerdas otaknya tapi seketika runtuh karena hobinya menjatuhkan orang lain :  NEGATIVE\n",
      "\n",
      "Prediction:\n",
      "[0, 0, 0, 1, 1, 1, 1, 1, 0, 0, 1, 0, 1, 1, 0, 1, 1, 1, 0, 0, 1, 0, 1, 1, 0, 0, 1, 0, 1, 0]\n",
      "True label:\n",
      "[0, 0, 0, 1, 1, 0, 0, 1, 0, 1, 1, 1, 0, 1, 0, 1, 0, 1, 1, 1, 0, 0, 1, 1, 0, 1, 0, 0, 1, 0]\n"
     ]
    }
   ],
   "source": [
    "model_eval(model_sentiment, test_sen_list, test_sen_label, True)"
   ]
  },
  {
   "cell_type": "markdown",
   "metadata": {
    "id": "s6OpGMarKvlT"
   },
   "source": [
    "### Hatespeech data\n",
    "\n",
    "\n",
    "Dengan menggunakan model Sentiment pada data Hatespeech dapat terlihat bahwa model banyak menentukan tweets dengan label HS mempunyai sentiment yang negatif. Tidak hanya itu ada juga tweets dengan label NON_HS mempunyai kesan yang negatif seperti pada tweets [ 6 ] dan [ 25 ]."
   ]
  },
  {
   "cell_type": "code",
   "execution_count": 40,
   "metadata": {
    "colab": {
     "base_uri": "https://localhost:8080/"
    },
    "id": "Eek3OBqu6t_I",
    "outputId": "c0c17f9b-196b-4c3a-8494-c45dc70fab19"
   },
   "outputs": [
    {
     "name": "stdout",
     "output_type": "stream",
     "text": [
      "[ 1 ] mampuuuusssssss mpok silvy  :  NEGATIVE\n",
      "[ 2 ] perilaku si babi  ini memang benci dgn hal berbau islam cocok dgn ahok  :  NEGATIVE\n",
      "[ 3 ] saya ga habis pikir kenapa fanboy ahok bego bego ya pada ga ngerti sejarah gampang kejebak iklan maaf ya  :  NEGATIVE\n",
      "[ 4 ] gw juga ngimpi sentilin biji babi ahok pcetar pcetar langsung kejang die ngadu ke jkw jkw makanye sunat dulu bru ngomong almaidah  :  NEGATIVE\n",
      "[ 5 ] gak habis pikir tinggal nunggu adzab allah nih negeri pemimpinnya sdh dzalim :  POSITIVE\n",
      "[ 6 ] itu yang ngomong jangan pilih ahok djarot pernah ngerasain banjir ga sih  :  NEGATIVE\n",
      "[ 7 ] mana bisa percya lagi sdgkan induknya penista smp skrg lum ditahan tp malah dibela  :  NEGATIVE\n",
      "[ 8 ] dan selamat atas kemenangannya untuk bapak anies  sandi semoga jakarta bisa bersatu lagi :  POSITIVE\n",
      "[ 9 ] mudahhan pak ahok jadi nomor satu di indonesia :  POSITIVE\n",
      "[ 10 ] jangan berpihak melayani rakyat dengan sepenuh hati tuhan yang memberi kekuasaan tuhan yang mengambil ahok matanajwadebatjakarta :  POSITIVE\n",
      "[ 11 ] kesimpulan ahok spt biasa fokus detail ke program anies terlalu fokus menjatuhkan lawan  matanajwadebatjakarta :  POSITIVE\n",
      "[ 12 ] kalau lihat ahok itu kayak lihat power rangers merah :  NEGATIVE\n",
      "[ 13 ] ahok  program paslon no ini programnya ngambang  yaiyalah pakkk gak ada program diaa cma ada celaan :  NEGATIVE\n",
      "[ 14 ] mereka siang malam maki ulama kita nongkrongi medsos ulamabela penista agama yg sombongnya minta ampun  :  NEGATIVE\n",
      "[ 15 ] aku katakan anjing kpd ahmad dani boleh aku katakan babi kpd ahmad dhani boleh  :  NEGATIVE\n",
      "[ 16 ] bagus nih ilustrasinya :  POSITIVE\n",
      "[ 17 ] mereka telah siap berikan yang terbaik di ajang debat terbuka  :  POSITIVE\n",
      "[ 18 ] aya bukan warga jakarta tp saya sering ke jakarta saya bangga jakarta pernah di pegang bapak jadi rapih pak sekarang  :  POSITIVE\n",
      "[ 19 ] ya itu namanya cawgub goblok gak ngerti peraturan debat kelihatan bego dan liciknya itu sandiaga uno  :  NEGATIVE\n",
      "[ 20 ] jadi debat terakhir nanti malam pilihanmu jatuh ke paslon yang mana  :  POSITIVE\n",
      "[ 21 ] paslon  selalu nyerang paslon  ni :  POSITIVE\n",
      "[ 22 ] ehh taik bangsat lo omongan elo kayak iwan bopeng yg mo potong leher tni bangsat lo iwan bopeng baekin tni taik lo  :  NEGATIVE\n",
      "[ 23 ] gusur ahok demi indonesia teladan buruk pembangkangan hukum dan anti kemanusiaan di jakarta jgn tertular ke daerah  coblospecinya :  NEGATIVE\n",
      "[ 24 ] itu sidang apa drama korea sampe kali lagi menunggu sidang ahok season  nih kayaknya goblin mah kalah pamornya :  NEGATIVE\n",
      "[ 25 ] jadi teringat para pelacur belia yg dijual orang tuanya sendiri di pantura demi sesuap nasi :  NEGATIVE\n",
      "[ 26 ] bukan hanya penista agama bagi jpu ahok pemecah belah bangsa :  NEGATIVE\n",
      "[ 27 ] ahok akan integrasikan transportasi publik dengan sistem single ticketing   infotribun :  POSITIVE\n",
      "[ 28 ] iya kelasnya penista agama bs nya cm ngebacot doang yg arogan sk blg taik nenek lu oh ya sumber waras  nama  kasus  ktp apkabar skakmat :  NEGATIVE\n",
      "\n",
      "Prediction:\n",
      "[0, 0, 0, 0, 1, 0, 0, 1, 1, 1, 1, 0, 0, 0, 0, 1, 1, 1, 0, 1, 1, 0, 0, 0, 0, 0, 1, 0]\n",
      "True label:\n",
      "[0, 0, 0, 0, 0, 1, 0, 1, 1, 1, 1, 1, 0, 0, 0, 1, 1, 1, 0, 1, 1, 0, 0, 1, 1, 0, 1, 0]\n"
     ]
    }
   ],
   "source": [
    "model_eval(model_sentiment, test_hs_list, test_hs_label, True)"
   ]
  },
  {
   "cell_type": "markdown",
   "metadata": {
    "id": "b2Su27dq6yzF"
   },
   "source": [
    "## Hatespeech model"
   ]
  },
  {
   "cell_type": "markdown",
   "metadata": {
    "id": "EL7-V_JrK_OX"
   },
   "source": [
    "### Sentiment data\n",
    "\n",
    "Dengan model Hatespeech pada data Sentment, terdapat beberapa tweets yang mempunyai label Negatif namun model menganggap bahwa tweets tersebut bukan termasuk dalam HS ([ 27 ], [ 6 ], [ 7 ])."
   ]
  },
  {
   "cell_type": "code",
   "execution_count": 41,
   "metadata": {
    "colab": {
     "base_uri": "https://localhost:8080/"
    },
    "id": "CxzWikUf61bv",
    "outputId": "123067b7-2278-4762-81c8-86b875007d8f"
   },
   "outputs": [
    {
     "name": "stdout",
     "output_type": "stream",
     "text": [
      "[ 1 ] vivacoid ini video saat nusron wahid kritik mui soal ahok :  POSITIVE\n",
      "[ 2 ] setara institut nilai mui berpolitik tdk sehat :  POSITIVE\n",
      "[ 3 ] paslon   akan menaikkan gaji guru paud jika terpilih waktu jadi mendikbud ente ngapain bray tidu :  POSITIVE\n",
      "[ 4 ]  dan  sebaiknya pahami dulu undangundang dan hukum pemerintahan daerah setelah itu pelajari data statistik  :  POSITIVE\n",
      "[ 5 ] jelas pk ahok paling brkemampuan jd gubernur klo yg kalian prmslahkan itu pribadinya kalian cuma gak kenal sja asli baik de :  POSITIVE\n",
      "[ 6 ] agus jawabnya muter ah ga tajem tepat sasaran  pic  :  POSITIVE\n",
      "[ 7 ] rachmawati tersinggung megawati ajak ahok ke makam bung karno   riau :  POSITIVE\n",
      "[ 8 ] keliatan kok najwa yg gelisah smua pertanyaan dijawab sg cerdas oleh mas agus jawab cerdas dan akurat kok dibilang emosi :  POSITIVE\n",
      "[ 9 ] lihat pa ditangkap atas laporan warga tapi btp bebas padahal ada laporan bpk   :  POSITIVE\n",
      "[ 10 ] membangun tanpa menyakitianiessandi cerdas  santun  amp :  POSITIVE\n",
      "[ 11 ] konteksnya mungkin sama dalam kasus ahok publik tidak rela dg pendapat ahok soal qs al maidah  :  POSITIVE\n",
      "[ 12 ] dan mas agus ikut dlm konstetasi politik karena dicalonkan oleh beberapa partai dan benar tidak pernah diduga sebelumny :  POSITIVE\n",
      "[ 13 ] apaansi ini mas agus di matanajwa menggebugebu banget  :  POSITIVE\n",
      "[ 14 ] soal quran polisi harus cari saksi yang dengar langsung pernyataan ahok di pulau seribu :  POSITIVE\n",
      "[ 15 ]  anies baswedan hanya mengurus satu urusan saja berantakan bagaimana dia bisa berfantasi menyelesaikan banyak urusan :  POSITIVE\n",
      "[ 16 ] analisis mengapa ahok unggul  dan paling memuaskan pasca debat :  POSITIVE\n",
      "[ 17 ] pengen tau apa tanggapan  dan   kalau  gak perlu ditanya ntar ngak nyambu :  POSITIVE\n",
      "[ 18 ] hidup misteri men kita tidak akan tau akan seperti apajalan hidup kita kedepannya  ngeri  ngeri sedap masagus yudhoyono kerenss :  POSITIVE\n",
      "[ 19 ] ibu sylvi adalah contoh bahwa wanita itu sulit ditebak dan pak anies contoh pria yg gak peka  :  NEGATIVE\n",
      "[ 20 ] ahok jelaskan alasan puluhan sekolah di dki gagal dibangun tahun ini ahok menjelaskan alasan gagalnya pemban  :  POSITIVE\n",
      "[ 21 ]  hari makin ketauan kalo ahokers  amp :  POSITIVE\n",
      "[ 22 ] pilkada dki jakarta harap tidak pilih nomor  bahaya laten komunis  :  POSITIVE\n",
      "[ 23 ] ahok kami bukan saja rencana lawan ketidakadilan sosial dalam birokrasi kami sudah lakukan kami hilangkan pungli dsb   :  POSITIVE\n",
      "[ 24 ] ulama yg bela ahok adalah ulama ah betapa islaminya organisasi ini jatiwaringin raya jam an tadi :  POSITIVE\n",
      "[ 25 ]  mui jatim dimas kanjeng dan ahok samasama penista agama :  NEGATIVE\n",
      "[ 26 ] serasiii :  POSITIVE\n",
      "[ 27 ] agus makin santai ahok makin santun anies makin esmosi imho  :  POSITIVE\n",
      "[ 28 ] belum belum greget ngegampar jawabannya om agus yudhoyono bu najwa shihab masih belum dalem banget nih oke this is getting interesting  :  POSITIVE\n",
      "[ 29 ] agus yudhoyono ternyata lebih lugas dan tegas dalam menjawab dibanding sang bapak sby yg selalu hatihati dlm menjawab :  POSITIVE\n",
      "[ 30 ] seorang dosen yang seharusnya dikagumi karena cerdas otaknya tapi seketika runtuh karena hobinya menjatuhkan orang lain :  POSITIVE\n",
      "\n",
      "Prediction:\n",
      "[1, 1, 1, 1, 1, 1, 1, 1, 1, 1, 1, 1, 1, 1, 1, 1, 1, 1, 0, 1, 1, 1, 1, 1, 0, 1, 1, 1, 1, 1]\n",
      "True label:\n",
      "[0, 0, 0, 1, 1, 0, 0, 1, 0, 1, 1, 1, 0, 1, 0, 1, 0, 1, 1, 1, 0, 0, 1, 1, 0, 1, 0, 0, 1, 0]\n"
     ]
    }
   ],
   "source": [
    "model_eval(model_hatespeech, test_sen_list, test_sen_label, True)"
   ]
  },
  {
   "cell_type": "markdown",
   "metadata": {
    "id": "NLCYYIg9LCHK"
   },
   "source": [
    "### Hatespeech data"
   ]
  },
  {
   "cell_type": "code",
   "execution_count": 42,
   "metadata": {
    "colab": {
     "base_uri": "https://localhost:8080/"
    },
    "id": "IrWkcMTx8tog",
    "outputId": "14337423-f842-4742-82a2-0a1e0dc9bb89"
   },
   "outputs": [
    {
     "name": "stdout",
     "output_type": "stream",
     "text": [
      "[ 1 ] mampuuuusssssss mpok silvy  :  NEGATIVE\n",
      "[ 2 ] perilaku si babi  ini memang benci dgn hal berbau islam cocok dgn ahok  :  NEGATIVE\n",
      "[ 3 ] saya ga habis pikir kenapa fanboy ahok bego bego ya pada ga ngerti sejarah gampang kejebak iklan maaf ya  :  POSITIVE\n",
      "[ 4 ] gw juga ngimpi sentilin biji babi ahok pcetar pcetar langsung kejang die ngadu ke jkw jkw makanye sunat dulu bru ngomong almaidah  :  NEGATIVE\n",
      "[ 5 ] gak habis pikir tinggal nunggu adzab allah nih negeri pemimpinnya sdh dzalim :  POSITIVE\n",
      "[ 6 ] itu yang ngomong jangan pilih ahok djarot pernah ngerasain banjir ga sih  :  POSITIVE\n",
      "[ 7 ] mana bisa percya lagi sdgkan induknya penista smp skrg lum ditahan tp malah dibela  :  POSITIVE\n",
      "[ 8 ] dan selamat atas kemenangannya untuk bapak anies  sandi semoga jakarta bisa bersatu lagi :  POSITIVE\n",
      "[ 9 ] mudahhan pak ahok jadi nomor satu di indonesia :  POSITIVE\n",
      "[ 10 ] jangan berpihak melayani rakyat dengan sepenuh hati tuhan yang memberi kekuasaan tuhan yang mengambil ahok matanajwadebatjakarta :  POSITIVE\n",
      "[ 11 ] kesimpulan ahok spt biasa fokus detail ke program anies terlalu fokus menjatuhkan lawan  matanajwadebatjakarta :  POSITIVE\n",
      "[ 12 ] kalau lihat ahok itu kayak lihat power rangers merah :  POSITIVE\n",
      "[ 13 ] ahok  program paslon no ini programnya ngambang  yaiyalah pakkk gak ada program diaa cma ada celaan :  POSITIVE\n",
      "[ 14 ] mereka siang malam maki ulama kita nongkrongi medsos ulamabela penista agama yg sombongnya minta ampun  :  NEGATIVE\n",
      "[ 15 ] aku katakan anjing kpd ahmad dani boleh aku katakan babi kpd ahmad dhani boleh  :  NEGATIVE\n",
      "[ 16 ] bagus nih ilustrasinya :  POSITIVE\n",
      "[ 17 ] mereka telah siap berikan yang terbaik di ajang debat terbuka  :  POSITIVE\n",
      "[ 18 ] aya bukan warga jakarta tp saya sering ke jakarta saya bangga jakarta pernah di pegang bapak jadi rapih pak sekarang  :  POSITIVE\n",
      "[ 19 ] ya itu namanya cawgub goblok gak ngerti peraturan debat kelihatan bego dan liciknya itu sandiaga uno  :  NEGATIVE\n",
      "[ 20 ] jadi debat terakhir nanti malam pilihanmu jatuh ke paslon yang mana  :  POSITIVE\n",
      "[ 21 ] paslon  selalu nyerang paslon  ni :  POSITIVE\n",
      "[ 22 ] ehh taik bangsat lo omongan elo kayak iwan bopeng yg mo potong leher tni bangsat lo iwan bopeng baekin tni taik lo  :  NEGATIVE\n",
      "[ 23 ] gusur ahok demi indonesia teladan buruk pembangkangan hukum dan anti kemanusiaan di jakarta jgn tertular ke daerah  coblospecinya :  POSITIVE\n",
      "[ 24 ] itu sidang apa drama korea sampe kali lagi menunggu sidang ahok season  nih kayaknya goblin mah kalah pamornya :  POSITIVE\n",
      "[ 25 ] jadi teringat para pelacur belia yg dijual orang tuanya sendiri di pantura demi sesuap nasi :  POSITIVE\n",
      "[ 26 ] bukan hanya penista agama bagi jpu ahok pemecah belah bangsa :  NEGATIVE\n",
      "[ 27 ] ahok akan integrasikan transportasi publik dengan sistem single ticketing   infotribun :  POSITIVE\n",
      "[ 28 ] iya kelasnya penista agama bs nya cm ngebacot doang yg arogan sk blg taik nenek lu oh ya sumber waras  nama  kasus  ktp apkabar skakmat :  NEGATIVE\n",
      "\n",
      "Prediction:\n",
      "[0, 0, 1, 0, 1, 1, 1, 1, 1, 1, 1, 1, 1, 0, 0, 1, 1, 1, 0, 1, 1, 0, 1, 1, 1, 0, 1, 0]\n",
      "True label:\n",
      "[0, 0, 0, 0, 0, 1, 0, 1, 1, 1, 1, 1, 0, 0, 0, 1, 1, 1, 0, 1, 1, 0, 0, 1, 1, 0, 1, 0]\n"
     ]
    }
   ],
   "source": [
    "model_eval(model_hatespeech, test_hs_list, test_hs_label, True)"
   ]
  },
  {
   "cell_type": "markdown",
   "metadata": {
    "id": "UQ7VLSfCTm4w"
   },
   "source": [
    "## Kesimpulan\n",
    "\n",
    "\n",
    "Kesimpulan yang dapat diambil adalah model Sentiment mampu untuk menentukan bahwa hampir dari seluruh data Hatespeech dengan label HS mempunyai sentimen yang negatif. Sentimen negatif dapat berasal dari kata-kata yang menghina atau bersifat negatif. Karena kebanyakan dari tweets HS menggunakan kata-kata yang menghina, maka model menganggap tweets tersebut mempunyai sentimen yang negatif.\n",
    "\n",
    "Pada model Hatespeech dengan data Sentiment dapat terlihat bahwa beberapa tweets dengan label Negatif bukan merupakan hate speech. Tweets dengan label HS lebih cenderung menggunakan kata-kata yang menghina atau berkesan negatif. Seperti pada contoh, sentimen negatif dapat berasal dari suatu tweets yang berbentuk kritik, yang membedakan tweets tersebut dengan tweets HS adalah penggunaan kata-kata yang menghina."
   ]
  },
  {
   "cell_type": "code",
   "execution_count": null,
   "metadata": {
    "id": "Sm6ArlQeTpva"
   },
   "outputs": [],
   "source": []
  }
 ],
 "metadata": {
  "accelerator": "GPU",
  "colab": {
   "collapsed_sections": [
    "iJvb6JbXJvlQ"
   ],
   "name": "InfoRetriev.ipynb",
   "provenance": [],
   "toc_visible": true
  },
  "kernelspec": {
   "display_name": "Python 3",
   "language": "python",
   "name": "python3"
  },
  "language_info": {
   "codemirror_mode": {
    "name": "ipython",
    "version": 3
   },
   "file_extension": ".py",
   "mimetype": "text/x-python",
   "name": "python",
   "nbconvert_exporter": "python",
   "pygments_lexer": "ipython3",
   "version": "3.7.9"
  },
  "widgets": {
   "application/vnd.jupyter.widget-state+json": {
    "06f6ed8c27cd45ec88426285103eb6b1": {
     "model_module": "@jupyter-widgets/base",
     "model_name": "LayoutModel",
     "state": {
      "_model_module": "@jupyter-widgets/base",
      "_model_module_version": "1.2.0",
      "_model_name": "LayoutModel",
      "_view_count": null,
      "_view_module": "@jupyter-widgets/base",
      "_view_module_version": "1.2.0",
      "_view_name": "LayoutView",
      "align_content": null,
      "align_items": null,
      "align_self": null,
      "border": null,
      "bottom": null,
      "display": null,
      "flex": null,
      "flex_flow": null,
      "grid_area": null,
      "grid_auto_columns": null,
      "grid_auto_flow": null,
      "grid_auto_rows": null,
      "grid_column": null,
      "grid_gap": null,
      "grid_row": null,
      "grid_template_areas": null,
      "grid_template_columns": null,
      "grid_template_rows": null,
      "height": null,
      "justify_content": null,
      "justify_items": null,
      "left": null,
      "margin": null,
      "max_height": null,
      "max_width": null,
      "min_height": null,
      "min_width": null,
      "object_fit": null,
      "object_position": null,
      "order": null,
      "overflow": null,
      "overflow_x": null,
      "overflow_y": null,
      "padding": null,
      "right": null,
      "top": null,
      "visibility": null,
      "width": null
     }
    },
    "0b1b6f8e732e46708e5b8cf93581e615": {
     "model_module": "@jupyter-widgets/controls",
     "model_name": "FloatProgressModel",
     "state": {
      "_dom_classes": [],
      "_model_module": "@jupyter-widgets/controls",
      "_model_module_version": "1.5.0",
      "_model_name": "FloatProgressModel",
      "_view_count": null,
      "_view_module": "@jupyter-widgets/controls",
      "_view_module_version": "1.5.0",
      "_view_name": "ProgressView",
      "bar_style": "success",
      "description": "Downloading: 100%",
      "description_tooltip": null,
      "layout": "IPY_MODEL_179d46cfcef7416f89473e788ab660d5",
      "max": 62,
      "min": 0,
      "orientation": "horizontal",
      "style": "IPY_MODEL_ca78f32b055a4176b43f46c3661ee192",
      "value": 62
     }
    },
    "0edab542dc954cb7be25fc9bc333a68f": {
     "model_module": "@jupyter-widgets/controls",
     "model_name": "HTMLModel",
     "state": {
      "_dom_classes": [],
      "_model_module": "@jupyter-widgets/controls",
      "_model_module_version": "1.5.0",
      "_model_name": "HTMLModel",
      "_view_count": null,
      "_view_module": "@jupyter-widgets/controls",
      "_view_module_version": "1.5.0",
      "_view_name": "HTMLView",
      "description": "",
      "description_tooltip": null,
      "layout": "IPY_MODEL_d5e1703a908e46b39d38fc66e0da35c1",
      "placeholder": "​",
      "style": "IPY_MODEL_9037809105e84aa2b45460990d3e9fa9",
      "value": " 545M/545M [00:08&lt;00:00, 64.7MB/s]"
     }
    },
    "179d46cfcef7416f89473e788ab660d5": {
     "model_module": "@jupyter-widgets/base",
     "model_name": "LayoutModel",
     "state": {
      "_model_module": "@jupyter-widgets/base",
      "_model_module_version": "1.2.0",
      "_model_name": "LayoutModel",
      "_view_count": null,
      "_view_module": "@jupyter-widgets/base",
      "_view_module_version": "1.2.0",
      "_view_name": "LayoutView",
      "align_content": null,
      "align_items": null,
      "align_self": null,
      "border": null,
      "bottom": null,
      "display": null,
      "flex": null,
      "flex_flow": null,
      "grid_area": null,
      "grid_auto_columns": null,
      "grid_auto_flow": null,
      "grid_auto_rows": null,
      "grid_column": null,
      "grid_gap": null,
      "grid_row": null,
      "grid_template_areas": null,
      "grid_template_columns": null,
      "grid_template_rows": null,
      "height": null,
      "justify_content": null,
      "justify_items": null,
      "left": null,
      "margin": null,
      "max_height": null,
      "max_width": null,
      "min_height": null,
      "min_width": null,
      "object_fit": null,
      "object_position": null,
      "order": null,
      "overflow": null,
      "overflow_x": null,
      "overflow_y": null,
      "padding": null,
      "right": null,
      "top": null,
      "visibility": null,
      "width": null
     }
    },
    "239fe66b733f4c219aae59358a7db3d7": {
     "model_module": "@jupyter-widgets/controls",
     "model_name": "FloatProgressModel",
     "state": {
      "_dom_classes": [],
      "_model_module": "@jupyter-widgets/controls",
      "_model_module_version": "1.5.0",
      "_model_name": "FloatProgressModel",
      "_view_count": null,
      "_view_module": "@jupyter-widgets/controls",
      "_view_module_version": "1.5.0",
      "_view_name": "ProgressView",
      "bar_style": "success",
      "description": "Downloading: 100%",
      "description_tooltip": null,
      "layout": "IPY_MODEL_5d8613a8a614451db98d428d762c676c",
      "max": 468,
      "min": 0,
      "orientation": "horizontal",
      "style": "IPY_MODEL_760fc44e4a584571acebf31cdf060463",
      "value": 468
     }
    },
    "24e48ef0c97b40fb90f07d104652fa8a": {
     "model_module": "@jupyter-widgets/controls",
     "model_name": "FloatProgressModel",
     "state": {
      "_dom_classes": [],
      "_model_module": "@jupyter-widgets/controls",
      "_model_module_version": "1.5.0",
      "_model_name": "FloatProgressModel",
      "_view_count": null,
      "_view_module": "@jupyter-widgets/controls",
      "_view_module_version": "1.5.0",
      "_view_name": "ProgressView",
      "bar_style": "success",
      "description": "Downloading: 100%",
      "description_tooltip": null,
      "layout": "IPY_MODEL_06f6ed8c27cd45ec88426285103eb6b1",
      "max": 545136632,
      "min": 0,
      "orientation": "horizontal",
      "style": "IPY_MODEL_e6daf4a63340462186d544c6b1c1a2fc",
      "value": 545136632
     }
    },
    "2b28f514924f4cc98e54ce8caeb9b32d": {
     "model_module": "@jupyter-widgets/controls",
     "model_name": "FloatProgressModel",
     "state": {
      "_dom_classes": [],
      "_model_module": "@jupyter-widgets/controls",
      "_model_module_version": "1.5.0",
      "_model_name": "FloatProgressModel",
      "_view_count": null,
      "_view_module": "@jupyter-widgets/controls",
      "_view_module_version": "1.5.0",
      "_view_name": "ProgressView",
      "bar_style": "success",
      "description": "Downloading: 100%",
      "description_tooltip": null,
      "layout": "IPY_MODEL_36155f7564c4476aaa36331434caa2c5",
      "max": 112,
      "min": 0,
      "orientation": "horizontal",
      "style": "IPY_MODEL_f2446f6ab4c44260ad13082b786c6887",
      "value": 112
     }
    },
    "2b5accbef59a42d9be11fac1b02bc59b": {
     "model_module": "@jupyter-widgets/base",
     "model_name": "LayoutModel",
     "state": {
      "_model_module": "@jupyter-widgets/base",
      "_model_module_version": "1.2.0",
      "_model_name": "LayoutModel",
      "_view_count": null,
      "_view_module": "@jupyter-widgets/base",
      "_view_module_version": "1.2.0",
      "_view_name": "LayoutView",
      "align_content": null,
      "align_items": null,
      "align_self": null,
      "border": null,
      "bottom": null,
      "display": null,
      "flex": null,
      "flex_flow": null,
      "grid_area": null,
      "grid_auto_columns": null,
      "grid_auto_flow": null,
      "grid_auto_rows": null,
      "grid_column": null,
      "grid_gap": null,
      "grid_row": null,
      "grid_template_areas": null,
      "grid_template_columns": null,
      "grid_template_rows": null,
      "height": null,
      "justify_content": null,
      "justify_items": null,
      "left": null,
      "margin": null,
      "max_height": null,
      "max_width": null,
      "min_height": null,
      "min_width": null,
      "object_fit": null,
      "object_position": null,
      "order": null,
      "overflow": null,
      "overflow_x": null,
      "overflow_y": null,
      "padding": null,
      "right": null,
      "top": null,
      "visibility": null,
      "width": null
     }
    },
    "36155f7564c4476aaa36331434caa2c5": {
     "model_module": "@jupyter-widgets/base",
     "model_name": "LayoutModel",
     "state": {
      "_model_module": "@jupyter-widgets/base",
      "_model_module_version": "1.2.0",
      "_model_name": "LayoutModel",
      "_view_count": null,
      "_view_module": "@jupyter-widgets/base",
      "_view_module_version": "1.2.0",
      "_view_name": "LayoutView",
      "align_content": null,
      "align_items": null,
      "align_self": null,
      "border": null,
      "bottom": null,
      "display": null,
      "flex": null,
      "flex_flow": null,
      "grid_area": null,
      "grid_auto_columns": null,
      "grid_auto_flow": null,
      "grid_auto_rows": null,
      "grid_column": null,
      "grid_gap": null,
      "grid_row": null,
      "grid_template_areas": null,
      "grid_template_columns": null,
      "grid_template_rows": null,
      "height": null,
      "justify_content": null,
      "justify_items": null,
      "left": null,
      "margin": null,
      "max_height": null,
      "max_width": null,
      "min_height": null,
      "min_width": null,
      "object_fit": null,
      "object_position": null,
      "order": null,
      "overflow": null,
      "overflow_x": null,
      "overflow_y": null,
      "padding": null,
      "right": null,
      "top": null,
      "visibility": null,
      "width": null
     }
    },
    "477f48c206374bb19249a3a48a3e159f": {
     "model_module": "@jupyter-widgets/controls",
     "model_name": "FloatProgressModel",
     "state": {
      "_dom_classes": [],
      "_model_module": "@jupyter-widgets/controls",
      "_model_module_version": "1.5.0",
      "_model_name": "FloatProgressModel",
      "_view_count": null,
      "_view_module": "@jupyter-widgets/controls",
      "_view_module_version": "1.5.0",
      "_view_name": "ProgressView",
      "bar_style": "success",
      "description": "Downloading: 100%",
      "description_tooltip": null,
      "layout": "IPY_MODEL_dd472c27c3894c608c8e68a88dbc9d9b",
      "max": 229513,
      "min": 0,
      "orientation": "horizontal",
      "style": "IPY_MODEL_74047c9a9e7c42158c6bde3af4c8c064",
      "value": 229513
     }
    },
    "524b2a16dd994fbb90ad3b890a9d744c": {
     "model_module": "@jupyter-widgets/controls",
     "model_name": "HTMLModel",
     "state": {
      "_dom_classes": [],
      "_model_module": "@jupyter-widgets/controls",
      "_model_module_version": "1.5.0",
      "_model_name": "HTMLModel",
      "_view_count": null,
      "_view_module": "@jupyter-widgets/controls",
      "_view_module_version": "1.5.0",
      "_view_name": "HTMLView",
      "description": "",
      "description_tooltip": null,
      "layout": "IPY_MODEL_2b5accbef59a42d9be11fac1b02bc59b",
      "placeholder": "​",
      "style": "IPY_MODEL_6869ee6deccb4cba88f28b7fde1b2e13",
      "value": " 62.0/62.0 [00:00&lt;00:00, 665B/s]"
     }
    },
    "5494632fab4c430daf7fe05dbbd098fa": {
     "model_module": "@jupyter-widgets/base",
     "model_name": "LayoutModel",
     "state": {
      "_model_module": "@jupyter-widgets/base",
      "_model_module_version": "1.2.0",
      "_model_name": "LayoutModel",
      "_view_count": null,
      "_view_module": "@jupyter-widgets/base",
      "_view_module_version": "1.2.0",
      "_view_name": "LayoutView",
      "align_content": null,
      "align_items": null,
      "align_self": null,
      "border": null,
      "bottom": null,
      "display": null,
      "flex": null,
      "flex_flow": null,
      "grid_area": null,
      "grid_auto_columns": null,
      "grid_auto_flow": null,
      "grid_auto_rows": null,
      "grid_column": null,
      "grid_gap": null,
      "grid_row": null,
      "grid_template_areas": null,
      "grid_template_columns": null,
      "grid_template_rows": null,
      "height": null,
      "justify_content": null,
      "justify_items": null,
      "left": null,
      "margin": null,
      "max_height": null,
      "max_width": null,
      "min_height": null,
      "min_width": null,
      "object_fit": null,
      "object_position": null,
      "order": null,
      "overflow": null,
      "overflow_x": null,
      "overflow_y": null,
      "padding": null,
      "right": null,
      "top": null,
      "visibility": null,
      "width": null
     }
    },
    "5d8613a8a614451db98d428d762c676c": {
     "model_module": "@jupyter-widgets/base",
     "model_name": "LayoutModel",
     "state": {
      "_model_module": "@jupyter-widgets/base",
      "_model_module_version": "1.2.0",
      "_model_name": "LayoutModel",
      "_view_count": null,
      "_view_module": "@jupyter-widgets/base",
      "_view_module_version": "1.2.0",
      "_view_name": "LayoutView",
      "align_content": null,
      "align_items": null,
      "align_self": null,
      "border": null,
      "bottom": null,
      "display": null,
      "flex": null,
      "flex_flow": null,
      "grid_area": null,
      "grid_auto_columns": null,
      "grid_auto_flow": null,
      "grid_auto_rows": null,
      "grid_column": null,
      "grid_gap": null,
      "grid_row": null,
      "grid_template_areas": null,
      "grid_template_columns": null,
      "grid_template_rows": null,
      "height": null,
      "justify_content": null,
      "justify_items": null,
      "left": null,
      "margin": null,
      "max_height": null,
      "max_width": null,
      "min_height": null,
      "min_width": null,
      "object_fit": null,
      "object_position": null,
      "order": null,
      "overflow": null,
      "overflow_x": null,
      "overflow_y": null,
      "padding": null,
      "right": null,
      "top": null,
      "visibility": null,
      "width": null
     }
    },
    "5e23e8cecbc84a44bce1142e07a5c489": {
     "model_module": "@jupyter-widgets/controls",
     "model_name": "HTMLModel",
     "state": {
      "_dom_classes": [],
      "_model_module": "@jupyter-widgets/controls",
      "_model_module_version": "1.5.0",
      "_model_name": "HTMLModel",
      "_view_count": null,
      "_view_module": "@jupyter-widgets/controls",
      "_view_module_version": "1.5.0",
      "_view_name": "HTMLView",
      "description": "",
      "description_tooltip": null,
      "layout": "IPY_MODEL_bc7d2497ec864af0b975b9df07f1e762",
      "placeholder": "​",
      "style": "IPY_MODEL_aba22f20b30145798f2e7a13a923ff13",
      "value": " 230k/230k [00:00&lt;00:00, 857kB/s]"
     }
    },
    "6869ee6deccb4cba88f28b7fde1b2e13": {
     "model_module": "@jupyter-widgets/controls",
     "model_name": "DescriptionStyleModel",
     "state": {
      "_model_module": "@jupyter-widgets/controls",
      "_model_module_version": "1.5.0",
      "_model_name": "DescriptionStyleModel",
      "_view_count": null,
      "_view_module": "@jupyter-widgets/base",
      "_view_module_version": "1.2.0",
      "_view_name": "StyleView",
      "description_width": ""
     }
    },
    "699d4bd7f2d942c392f0cdf4eff1df2c": {
     "model_module": "@jupyter-widgets/base",
     "model_name": "LayoutModel",
     "state": {
      "_model_module": "@jupyter-widgets/base",
      "_model_module_version": "1.2.0",
      "_model_name": "LayoutModel",
      "_view_count": null,
      "_view_module": "@jupyter-widgets/base",
      "_view_module_version": "1.2.0",
      "_view_name": "LayoutView",
      "align_content": null,
      "align_items": null,
      "align_self": null,
      "border": null,
      "bottom": null,
      "display": null,
      "flex": null,
      "flex_flow": null,
      "grid_area": null,
      "grid_auto_columns": null,
      "grid_auto_flow": null,
      "grid_auto_rows": null,
      "grid_column": null,
      "grid_gap": null,
      "grid_row": null,
      "grid_template_areas": null,
      "grid_template_columns": null,
      "grid_template_rows": null,
      "height": null,
      "justify_content": null,
      "justify_items": null,
      "left": null,
      "margin": null,
      "max_height": null,
      "max_width": null,
      "min_height": null,
      "min_width": null,
      "object_fit": null,
      "object_position": null,
      "order": null,
      "overflow": null,
      "overflow_x": null,
      "overflow_y": null,
      "padding": null,
      "right": null,
      "top": null,
      "visibility": null,
      "width": null
     }
    },
    "729ba0cce6694fa081b200e59cc43a57": {
     "model_module": "@jupyter-widgets/controls",
     "model_name": "HBoxModel",
     "state": {
      "_dom_classes": [],
      "_model_module": "@jupyter-widgets/controls",
      "_model_module_version": "1.5.0",
      "_model_name": "HBoxModel",
      "_view_count": null,
      "_view_module": "@jupyter-widgets/controls",
      "_view_module_version": "1.5.0",
      "_view_name": "HBoxView",
      "box_style": "",
      "children": [
       "IPY_MODEL_477f48c206374bb19249a3a48a3e159f",
       "IPY_MODEL_5e23e8cecbc84a44bce1142e07a5c489"
      ],
      "layout": "IPY_MODEL_f064a3d1d6d74353b0e2c0e4f6c81170"
     }
    },
    "729c0f6da6384113bba44c8f1e16c739": {
     "model_module": "@jupyter-widgets/controls",
     "model_name": "HBoxModel",
     "state": {
      "_dom_classes": [],
      "_model_module": "@jupyter-widgets/controls",
      "_model_module_version": "1.5.0",
      "_model_name": "HBoxModel",
      "_view_count": null,
      "_view_module": "@jupyter-widgets/controls",
      "_view_module_version": "1.5.0",
      "_view_name": "HBoxView",
      "box_style": "",
      "children": [
       "IPY_MODEL_2b28f514924f4cc98e54ce8caeb9b32d",
       "IPY_MODEL_775b196bd9c041bf87b6b4da93842a75"
      ],
      "layout": "IPY_MODEL_aac180d8ef8d482d9ebc97d487e8308b"
     }
    },
    "74047c9a9e7c42158c6bde3af4c8c064": {
     "model_module": "@jupyter-widgets/controls",
     "model_name": "ProgressStyleModel",
     "state": {
      "_model_module": "@jupyter-widgets/controls",
      "_model_module_version": "1.5.0",
      "_model_name": "ProgressStyleModel",
      "_view_count": null,
      "_view_module": "@jupyter-widgets/base",
      "_view_module_version": "1.2.0",
      "_view_name": "StyleView",
      "bar_color": null,
      "description_width": "initial"
     }
    },
    "760fc44e4a584571acebf31cdf060463": {
     "model_module": "@jupyter-widgets/controls",
     "model_name": "ProgressStyleModel",
     "state": {
      "_model_module": "@jupyter-widgets/controls",
      "_model_module_version": "1.5.0",
      "_model_name": "ProgressStyleModel",
      "_view_count": null,
      "_view_module": "@jupyter-widgets/base",
      "_view_module_version": "1.2.0",
      "_view_name": "StyleView",
      "bar_color": null,
      "description_width": "initial"
     }
    },
    "775b196bd9c041bf87b6b4da93842a75": {
     "model_module": "@jupyter-widgets/controls",
     "model_name": "HTMLModel",
     "state": {
      "_dom_classes": [],
      "_model_module": "@jupyter-widgets/controls",
      "_model_module_version": "1.5.0",
      "_model_name": "HTMLModel",
      "_view_count": null,
      "_view_module": "@jupyter-widgets/controls",
      "_view_module_version": "1.5.0",
      "_view_name": "HTMLView",
      "description": "",
      "description_tooltip": null,
      "layout": "IPY_MODEL_cc4b3858cab741969c478ec493d7ed05",
      "placeholder": "​",
      "style": "IPY_MODEL_ce35d0be3b694c0d903be0ed8745d836",
      "value": " 112/112 [00:00&lt;00:00, 654B/s]"
     }
    },
    "9037809105e84aa2b45460990d3e9fa9": {
     "model_module": "@jupyter-widgets/controls",
     "model_name": "DescriptionStyleModel",
     "state": {
      "_model_module": "@jupyter-widgets/controls",
      "_model_module_version": "1.5.0",
      "_model_name": "DescriptionStyleModel",
      "_view_count": null,
      "_view_module": "@jupyter-widgets/base",
      "_view_module_version": "1.2.0",
      "_view_name": "StyleView",
      "description_width": ""
     }
    },
    "9ca7feb7275e475796e24d32fdb23c3c": {
     "model_module": "@jupyter-widgets/base",
     "model_name": "LayoutModel",
     "state": {
      "_model_module": "@jupyter-widgets/base",
      "_model_module_version": "1.2.0",
      "_model_name": "LayoutModel",
      "_view_count": null,
      "_view_module": "@jupyter-widgets/base",
      "_view_module_version": "1.2.0",
      "_view_name": "LayoutView",
      "align_content": null,
      "align_items": null,
      "align_self": null,
      "border": null,
      "bottom": null,
      "display": null,
      "flex": null,
      "flex_flow": null,
      "grid_area": null,
      "grid_auto_columns": null,
      "grid_auto_flow": null,
      "grid_auto_rows": null,
      "grid_column": null,
      "grid_gap": null,
      "grid_row": null,
      "grid_template_areas": null,
      "grid_template_columns": null,
      "grid_template_rows": null,
      "height": null,
      "justify_content": null,
      "justify_items": null,
      "left": null,
      "margin": null,
      "max_height": null,
      "max_width": null,
      "min_height": null,
      "min_width": null,
      "object_fit": null,
      "object_position": null,
      "order": null,
      "overflow": null,
      "overflow_x": null,
      "overflow_y": null,
      "padding": null,
      "right": null,
      "top": null,
      "visibility": null,
      "width": null
     }
    },
    "aac180d8ef8d482d9ebc97d487e8308b": {
     "model_module": "@jupyter-widgets/base",
     "model_name": "LayoutModel",
     "state": {
      "_model_module": "@jupyter-widgets/base",
      "_model_module_version": "1.2.0",
      "_model_name": "LayoutModel",
      "_view_count": null,
      "_view_module": "@jupyter-widgets/base",
      "_view_module_version": "1.2.0",
      "_view_name": "LayoutView",
      "align_content": null,
      "align_items": null,
      "align_self": null,
      "border": null,
      "bottom": null,
      "display": null,
      "flex": null,
      "flex_flow": null,
      "grid_area": null,
      "grid_auto_columns": null,
      "grid_auto_flow": null,
      "grid_auto_rows": null,
      "grid_column": null,
      "grid_gap": null,
      "grid_row": null,
      "grid_template_areas": null,
      "grid_template_columns": null,
      "grid_template_rows": null,
      "height": null,
      "justify_content": null,
      "justify_items": null,
      "left": null,
      "margin": null,
      "max_height": null,
      "max_width": null,
      "min_height": null,
      "min_width": null,
      "object_fit": null,
      "object_position": null,
      "order": null,
      "overflow": null,
      "overflow_x": null,
      "overflow_y": null,
      "padding": null,
      "right": null,
      "top": null,
      "visibility": null,
      "width": null
     }
    },
    "aba22f20b30145798f2e7a13a923ff13": {
     "model_module": "@jupyter-widgets/controls",
     "model_name": "DescriptionStyleModel",
     "state": {
      "_model_module": "@jupyter-widgets/controls",
      "_model_module_version": "1.5.0",
      "_model_name": "DescriptionStyleModel",
      "_view_count": null,
      "_view_module": "@jupyter-widgets/base",
      "_view_module_version": "1.2.0",
      "_view_name": "StyleView",
      "description_width": ""
     }
    },
    "bc7d2497ec864af0b975b9df07f1e762": {
     "model_module": "@jupyter-widgets/base",
     "model_name": "LayoutModel",
     "state": {
      "_model_module": "@jupyter-widgets/base",
      "_model_module_version": "1.2.0",
      "_model_name": "LayoutModel",
      "_view_count": null,
      "_view_module": "@jupyter-widgets/base",
      "_view_module_version": "1.2.0",
      "_view_name": "LayoutView",
      "align_content": null,
      "align_items": null,
      "align_self": null,
      "border": null,
      "bottom": null,
      "display": null,
      "flex": null,
      "flex_flow": null,
      "grid_area": null,
      "grid_auto_columns": null,
      "grid_auto_flow": null,
      "grid_auto_rows": null,
      "grid_column": null,
      "grid_gap": null,
      "grid_row": null,
      "grid_template_areas": null,
      "grid_template_columns": null,
      "grid_template_rows": null,
      "height": null,
      "justify_content": null,
      "justify_items": null,
      "left": null,
      "margin": null,
      "max_height": null,
      "max_width": null,
      "min_height": null,
      "min_width": null,
      "object_fit": null,
      "object_position": null,
      "order": null,
      "overflow": null,
      "overflow_x": null,
      "overflow_y": null,
      "padding": null,
      "right": null,
      "top": null,
      "visibility": null,
      "width": null
     }
    },
    "ca78f32b055a4176b43f46c3661ee192": {
     "model_module": "@jupyter-widgets/controls",
     "model_name": "ProgressStyleModel",
     "state": {
      "_model_module": "@jupyter-widgets/controls",
      "_model_module_version": "1.5.0",
      "_model_name": "ProgressStyleModel",
      "_view_count": null,
      "_view_module": "@jupyter-widgets/base",
      "_view_module_version": "1.2.0",
      "_view_name": "StyleView",
      "bar_color": null,
      "description_width": "initial"
     }
    },
    "cc4b3858cab741969c478ec493d7ed05": {
     "model_module": "@jupyter-widgets/base",
     "model_name": "LayoutModel",
     "state": {
      "_model_module": "@jupyter-widgets/base",
      "_model_module_version": "1.2.0",
      "_model_name": "LayoutModel",
      "_view_count": null,
      "_view_module": "@jupyter-widgets/base",
      "_view_module_version": "1.2.0",
      "_view_name": "LayoutView",
      "align_content": null,
      "align_items": null,
      "align_self": null,
      "border": null,
      "bottom": null,
      "display": null,
      "flex": null,
      "flex_flow": null,
      "grid_area": null,
      "grid_auto_columns": null,
      "grid_auto_flow": null,
      "grid_auto_rows": null,
      "grid_column": null,
      "grid_gap": null,
      "grid_row": null,
      "grid_template_areas": null,
      "grid_template_columns": null,
      "grid_template_rows": null,
      "height": null,
      "justify_content": null,
      "justify_items": null,
      "left": null,
      "margin": null,
      "max_height": null,
      "max_width": null,
      "min_height": null,
      "min_width": null,
      "object_fit": null,
      "object_position": null,
      "order": null,
      "overflow": null,
      "overflow_x": null,
      "overflow_y": null,
      "padding": null,
      "right": null,
      "top": null,
      "visibility": null,
      "width": null
     }
    },
    "ce35d0be3b694c0d903be0ed8745d836": {
     "model_module": "@jupyter-widgets/controls",
     "model_name": "DescriptionStyleModel",
     "state": {
      "_model_module": "@jupyter-widgets/controls",
      "_model_module_version": "1.5.0",
      "_model_name": "DescriptionStyleModel",
      "_view_count": null,
      "_view_module": "@jupyter-widgets/base",
      "_view_module_version": "1.2.0",
      "_view_name": "StyleView",
      "description_width": ""
     }
    },
    "d5e1703a908e46b39d38fc66e0da35c1": {
     "model_module": "@jupyter-widgets/base",
     "model_name": "LayoutModel",
     "state": {
      "_model_module": "@jupyter-widgets/base",
      "_model_module_version": "1.2.0",
      "_model_name": "LayoutModel",
      "_view_count": null,
      "_view_module": "@jupyter-widgets/base",
      "_view_module_version": "1.2.0",
      "_view_name": "LayoutView",
      "align_content": null,
      "align_items": null,
      "align_self": null,
      "border": null,
      "bottom": null,
      "display": null,
      "flex": null,
      "flex_flow": null,
      "grid_area": null,
      "grid_auto_columns": null,
      "grid_auto_flow": null,
      "grid_auto_rows": null,
      "grid_column": null,
      "grid_gap": null,
      "grid_row": null,
      "grid_template_areas": null,
      "grid_template_columns": null,
      "grid_template_rows": null,
      "height": null,
      "justify_content": null,
      "justify_items": null,
      "left": null,
      "margin": null,
      "max_height": null,
      "max_width": null,
      "min_height": null,
      "min_width": null,
      "object_fit": null,
      "object_position": null,
      "order": null,
      "overflow": null,
      "overflow_x": null,
      "overflow_y": null,
      "padding": null,
      "right": null,
      "top": null,
      "visibility": null,
      "width": null
     }
    },
    "dd472c27c3894c608c8e68a88dbc9d9b": {
     "model_module": "@jupyter-widgets/base",
     "model_name": "LayoutModel",
     "state": {
      "_model_module": "@jupyter-widgets/base",
      "_model_module_version": "1.2.0",
      "_model_name": "LayoutModel",
      "_view_count": null,
      "_view_module": "@jupyter-widgets/base",
      "_view_module_version": "1.2.0",
      "_view_name": "LayoutView",
      "align_content": null,
      "align_items": null,
      "align_self": null,
      "border": null,
      "bottom": null,
      "display": null,
      "flex": null,
      "flex_flow": null,
      "grid_area": null,
      "grid_auto_columns": null,
      "grid_auto_flow": null,
      "grid_auto_rows": null,
      "grid_column": null,
      "grid_gap": null,
      "grid_row": null,
      "grid_template_areas": null,
      "grid_template_columns": null,
      "grid_template_rows": null,
      "height": null,
      "justify_content": null,
      "justify_items": null,
      "left": null,
      "margin": null,
      "max_height": null,
      "max_width": null,
      "min_height": null,
      "min_width": null,
      "object_fit": null,
      "object_position": null,
      "order": null,
      "overflow": null,
      "overflow_x": null,
      "overflow_y": null,
      "padding": null,
      "right": null,
      "top": null,
      "visibility": null,
      "width": null
     }
    },
    "e1b8318da65342aea04f0275e007b7a1": {
     "model_module": "@jupyter-widgets/controls",
     "model_name": "DescriptionStyleModel",
     "state": {
      "_model_module": "@jupyter-widgets/controls",
      "_model_module_version": "1.5.0",
      "_model_name": "DescriptionStyleModel",
      "_view_count": null,
      "_view_module": "@jupyter-widgets/base",
      "_view_module_version": "1.2.0",
      "_view_name": "StyleView",
      "description_width": ""
     }
    },
    "e61c15c3298e423280a510ee6e338868": {
     "model_module": "@jupyter-widgets/controls",
     "model_name": "HBoxModel",
     "state": {
      "_dom_classes": [],
      "_model_module": "@jupyter-widgets/controls",
      "_model_module_version": "1.5.0",
      "_model_name": "HBoxModel",
      "_view_count": null,
      "_view_module": "@jupyter-widgets/controls",
      "_view_module_version": "1.5.0",
      "_view_name": "HBoxView",
      "box_style": "",
      "children": [
       "IPY_MODEL_24e48ef0c97b40fb90f07d104652fa8a",
       "IPY_MODEL_0edab542dc954cb7be25fc9bc333a68f"
      ],
      "layout": "IPY_MODEL_9ca7feb7275e475796e24d32fdb23c3c"
     }
    },
    "e6daf4a63340462186d544c6b1c1a2fc": {
     "model_module": "@jupyter-widgets/controls",
     "model_name": "ProgressStyleModel",
     "state": {
      "_model_module": "@jupyter-widgets/controls",
      "_model_module_version": "1.5.0",
      "_model_name": "ProgressStyleModel",
      "_view_count": null,
      "_view_module": "@jupyter-widgets/base",
      "_view_module_version": "1.2.0",
      "_view_name": "StyleView",
      "bar_color": null,
      "description_width": "initial"
     }
    },
    "e71ebd5935ce4a1e8bc0f0ef76e6e6ad": {
     "model_module": "@jupyter-widgets/controls",
     "model_name": "HTMLModel",
     "state": {
      "_dom_classes": [],
      "_model_module": "@jupyter-widgets/controls",
      "_model_module_version": "1.5.0",
      "_model_name": "HTMLModel",
      "_view_count": null,
      "_view_module": "@jupyter-widgets/controls",
      "_view_module_version": "1.5.0",
      "_view_name": "HTMLView",
      "description": "",
      "description_tooltip": null,
      "layout": "IPY_MODEL_5494632fab4c430daf7fe05dbbd098fa",
      "placeholder": "​",
      "style": "IPY_MODEL_e1b8318da65342aea04f0275e007b7a1",
      "value": " 468/468 [00:00&lt;00:00, 2.38kB/s]"
     }
    },
    "e725f61b06a94ebb990a3fb8c7fb9ed9": {
     "model_module": "@jupyter-widgets/controls",
     "model_name": "HBoxModel",
     "state": {
      "_dom_classes": [],
      "_model_module": "@jupyter-widgets/controls",
      "_model_module_version": "1.5.0",
      "_model_name": "HBoxModel",
      "_view_count": null,
      "_view_module": "@jupyter-widgets/controls",
      "_view_module_version": "1.5.0",
      "_view_name": "HBoxView",
      "box_style": "",
      "children": [
       "IPY_MODEL_239fe66b733f4c219aae59358a7db3d7",
       "IPY_MODEL_e71ebd5935ce4a1e8bc0f0ef76e6e6ad"
      ],
      "layout": "IPY_MODEL_fb4a4531bed94e54896de7e964d30949"
     }
    },
    "f064a3d1d6d74353b0e2c0e4f6c81170": {
     "model_module": "@jupyter-widgets/base",
     "model_name": "LayoutModel",
     "state": {
      "_model_module": "@jupyter-widgets/base",
      "_model_module_version": "1.2.0",
      "_model_name": "LayoutModel",
      "_view_count": null,
      "_view_module": "@jupyter-widgets/base",
      "_view_module_version": "1.2.0",
      "_view_name": "LayoutView",
      "align_content": null,
      "align_items": null,
      "align_self": null,
      "border": null,
      "bottom": null,
      "display": null,
      "flex": null,
      "flex_flow": null,
      "grid_area": null,
      "grid_auto_columns": null,
      "grid_auto_flow": null,
      "grid_auto_rows": null,
      "grid_column": null,
      "grid_gap": null,
      "grid_row": null,
      "grid_template_areas": null,
      "grid_template_columns": null,
      "grid_template_rows": null,
      "height": null,
      "justify_content": null,
      "justify_items": null,
      "left": null,
      "margin": null,
      "max_height": null,
      "max_width": null,
      "min_height": null,
      "min_width": null,
      "object_fit": null,
      "object_position": null,
      "order": null,
      "overflow": null,
      "overflow_x": null,
      "overflow_y": null,
      "padding": null,
      "right": null,
      "top": null,
      "visibility": null,
      "width": null
     }
    },
    "f2446f6ab4c44260ad13082b786c6887": {
     "model_module": "@jupyter-widgets/controls",
     "model_name": "ProgressStyleModel",
     "state": {
      "_model_module": "@jupyter-widgets/controls",
      "_model_module_version": "1.5.0",
      "_model_name": "ProgressStyleModel",
      "_view_count": null,
      "_view_module": "@jupyter-widgets/base",
      "_view_module_version": "1.2.0",
      "_view_name": "StyleView",
      "bar_color": null,
      "description_width": "initial"
     }
    },
    "f33602a90c8a4b4d9add7f4f4bc4c79f": {
     "model_module": "@jupyter-widgets/controls",
     "model_name": "HBoxModel",
     "state": {
      "_dom_classes": [],
      "_model_module": "@jupyter-widgets/controls",
      "_model_module_version": "1.5.0",
      "_model_name": "HBoxModel",
      "_view_count": null,
      "_view_module": "@jupyter-widgets/controls",
      "_view_module_version": "1.5.0",
      "_view_name": "HBoxView",
      "box_style": "",
      "children": [
       "IPY_MODEL_0b1b6f8e732e46708e5b8cf93581e615",
       "IPY_MODEL_524b2a16dd994fbb90ad3b890a9d744c"
      ],
      "layout": "IPY_MODEL_699d4bd7f2d942c392f0cdf4eff1df2c"
     }
    },
    "fb4a4531bed94e54896de7e964d30949": {
     "model_module": "@jupyter-widgets/base",
     "model_name": "LayoutModel",
     "state": {
      "_model_module": "@jupyter-widgets/base",
      "_model_module_version": "1.2.0",
      "_model_name": "LayoutModel",
      "_view_count": null,
      "_view_module": "@jupyter-widgets/base",
      "_view_module_version": "1.2.0",
      "_view_name": "LayoutView",
      "align_content": null,
      "align_items": null,
      "align_self": null,
      "border": null,
      "bottom": null,
      "display": null,
      "flex": null,
      "flex_flow": null,
      "grid_area": null,
      "grid_auto_columns": null,
      "grid_auto_flow": null,
      "grid_auto_rows": null,
      "grid_column": null,
      "grid_gap": null,
      "grid_row": null,
      "grid_template_areas": null,
      "grid_template_columns": null,
      "grid_template_rows": null,
      "height": null,
      "justify_content": null,
      "justify_items": null,
      "left": null,
      "margin": null,
      "max_height": null,
      "max_width": null,
      "min_height": null,
      "min_width": null,
      "object_fit": null,
      "object_position": null,
      "order": null,
      "overflow": null,
      "overflow_x": null,
      "overflow_y": null,
      "padding": null,
      "right": null,
      "top": null,
      "visibility": null,
      "width": null
     }
    }
   }
  }
 },
 "nbformat": 4,
 "nbformat_minor": 1
}
